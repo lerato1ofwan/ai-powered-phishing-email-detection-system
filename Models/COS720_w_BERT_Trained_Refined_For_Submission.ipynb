{
  "cells": [
    {
      "cell_type": "code",
      "execution_count": 1,
      "metadata": {
        "colab": {
          "base_uri": "https://localhost:8080/"
        },
        "id": "126c8f99",
        "outputId": "0008f896-e0e2-48ee-c09b-e7f0e28029e9"
      },
      "outputs": [
        {
          "output_type": "stream",
          "name": "stdout",
          "text": [
            "Installing evaluate...\n"
          ]
        }
      ],
      "source": [
        "import sys\n",
        "import subprocess\n",
        "\n",
        "def install(package):\n",
        "    subprocess.check_call([sys.executable, \"-m\", \"pip\", \"install\", package])\n",
        "\n",
        "required_packages = [\n",
        "    \"huggingface_hub\",\n",
        "    \"transformers\",\n",
        "    \"datasets\",\n",
        "    \"evaluate\",\n",
        "    \"pandas\",\n",
        "    \"torch\",\n",
        "    \"torchaudio\",\n",
        "    \"torchvision\",\n",
        "    \"accelerate>=0.26.0\",\n",
        "    \"peft\"\n",
        "]\n",
        "\n",
        "for package in required_packages:\n",
        "    try:\n",
        "        __import__(package.split(\"==\")[0].split(\">=\")[0].split(\"<=\")[0])\n",
        "    except ImportError:\n",
        "        print(f\"Installing {package}...\")\n",
        "        install(package)\n"
      ]
    },
    {
      "cell_type": "code",
      "execution_count": 2,
      "metadata": {
        "id": "LKcFfSgwWRNU"
      },
      "outputs": [],
      "source": [
        "import re\n",
        "import numpy as np\n",
        "import pandas as pd\n",
        "from datasets import load_dataset, concatenate_datasets, Dataset\n",
        "from sklearn.model_selection import train_test_split"
      ]
    },
    {
      "cell_type": "markdown",
      "metadata": {
        "id": "zugm1o4ys3q6"
      },
      "source": [
        "# Loading the dataset"
      ]
    },
    {
      "cell_type": "code",
      "execution_count": 9,
      "metadata": {
        "colab": {
          "base_uri": "https://localhost:8080/",
          "height": 339,
          "referenced_widgets": [
            "1fbd6fc854014036b13d1199fbbc1bb7",
            "d74a7f7664f7452fa195d72c5bbd7e38",
            "534a34f953e747b69063636ed39a3e0e",
            "08ba4bd21bf44920b2794164012bde94",
            "bbbe983083124a9cae9415349beb7791",
            "072f2ff0d6fb4f0f95fb9bca3e5a6f31",
            "858e50c563394852bc52903138e8e772",
            "371ccf35bdf94e2caf050c1764df5119",
            "725b56ffb53f487c9a1bc61efc2607c1",
            "21c3c174ed684100b24f8a2c1fbef575",
            "1c8b3735248d474981ca74bf63d1ac0d",
            "28559c984e46493b9ffdd3c4c99f8154",
            "d66735af9f7c43a39842a467fa9b44ee",
            "bbf82fe5ed324c94954bda52a9e5b8f8",
            "0429a85494e64033a769e1c72ac8ac04",
            "da9c3dd595c14ba4b09d7ec22074b905",
            "a7b506b666674c03bea62a8ba8c9a896",
            "3a7d9c7bc76442a0a8e2e123787fa41f",
            "c296476b9c784ab88bd3eced96aa243e",
            "c4de7cabfd5e4ae5b7cb5455d699ff1e",
            "34efe1849bab40d9bb14e06451c5f07b",
            "4154cced03e2466d89f955c768df411c",
            "fe4abb78551f4136b196b05a92aa73a3",
            "26eb1f3aab5f4de8b8bb6bee92bde666",
            "c2dfdd79d73b4640a0a143d7d4bfacfa",
            "6a30c06e768a4db1b1c4ec61195ce279",
            "7fac1539b53c4ad6b0c3374042f27688",
            "850b0b353fcb475e853d2649cd08f1a8",
            "34cd81c75f044538a8b40a702329e392",
            "4a1a6046a05847bf8ca688b132839b1d",
            "61e05989ca1744d19a2dd39bcbd21e35",
            "4069c4a18eae4349b57d577e3cd78e88",
            "d3f3f482afe34808a81dfc88943eeff0"
          ]
        },
        "id": "dVDww_iNWa5S",
        "outputId": "6af758fa-a774-4682-9baf-3a7227942530"
      },
      "outputs": [
        {
          "output_type": "stream",
          "name": "stdout",
          "text": [
            "  - Downloading SpamAssasin.csv from HF Hub...\n",
            "  - Loading SpamAssasin.csv with pandas...\n",
            "  - Downloading Nigerian_Fraud.csv from HF Hub...\n"
          ]
        },
        {
          "output_type": "display_data",
          "data": {
            "text/plain": [
              "Nigerian_Fraud.csv:   0%|          | 0.00/9.19M [00:00<?, ?B/s]"
            ],
            "application/vnd.jupyter.widget-view+json": {
              "version_major": 2,
              "version_minor": 0,
              "model_id": "1fbd6fc854014036b13d1199fbbc1bb7"
            }
          },
          "metadata": {}
        },
        {
          "output_type": "stream",
          "name": "stdout",
          "text": [
            "  - Loading Nigerian_Fraud.csv with pandas...\n",
            "  - Downloading CEAS_08.csv from HF Hub...\n"
          ]
        },
        {
          "output_type": "display_data",
          "data": {
            "text/plain": [
              "CEAS_08.csv:   0%|          | 0.00/67.9M [00:00<?, ?B/s]"
            ],
            "application/vnd.jupyter.widget-view+json": {
              "version_major": 2,
              "version_minor": 0,
              "model_id": "28559c984e46493b9ffdd3c4c99f8154"
            }
          },
          "metadata": {}
        },
        {
          "output_type": "stream",
          "name": "stdout",
          "text": [
            "  - Loading CEAS_08.csv with pandas...\n",
            "  - Downloading Nazario.csv from HF Hub...\n"
          ]
        },
        {
          "output_type": "display_data",
          "data": {
            "text/plain": [
              "Nazario.csv:   0%|          | 0.00/7.81M [00:00<?, ?B/s]"
            ],
            "application/vnd.jupyter.widget-view+json": {
              "version_major": 2,
              "version_minor": 0,
              "model_id": "fe4abb78551f4136b196b05a92aa73a3"
            }
          },
          "metadata": {}
        },
        {
          "output_type": "stream",
          "name": "stdout",
          "text": [
            "  - Loading Nazario.csv with pandas...\n",
            "\n",
            "✅ All files loaded successfully.\n",
            "\n",
            "Combining into a single DataFrame...\n",
            "✅ Combined DataFrame has 49860 rows.\n"
          ]
        }
      ],
      "source": [
        "from huggingface_hub import hf_hub_download\n",
        "import pandas as pd\n",
        "\n",
        "huggingface_repo_id = \"lleratodev/ai-powered-phishing-email-detection-system\"\n",
        "target_files = [\"SpamAssasin.csv\", \"Nigerian_Fraud.csv\", \"CEAS_08.csv\", \"Nazario.csv\"]\n",
        "\n",
        "dfs = []\n",
        "load_errors = False\n",
        "\n",
        "try:\n",
        "    for filename in target_files:\n",
        "        print(f\"  - Downloading {filename} from HF Hub...\")\n",
        "        local_path = hf_hub_download(repo_id=huggingface_repo_id, filename=filename, repo_type=\"dataset\")\n",
        "\n",
        "        print(f\"  - Loading {filename} with pandas...\")\n",
        "        df = pd.read_csv(local_path)\n",
        "        df[\"source\"] = filename  # optional: label source\n",
        "        dfs.append(df)\n",
        "\n",
        "    print(\"\\nAll files loaded successfully.\")\n",
        "\n",
        "    # Combine all into one DataFrame\n",
        "    print(\"\\nCombining into a single DataFrame...\")\n",
        "    main_df = pd.concat(dfs, ignore_index=True)\n",
        "    print(f\"Combined DataFrame has {len(main_df)} rows.\")\n",
        "\n",
        "except Exception as e:\n",
        "    print(f\"\\n--- ❌ ERROR ---\")\n",
        "    print(f\"Failed to load and combine datasets.\")\n",
        "    print(f\"Error details: {e}\")\n",
        "    load_errors = True"
      ]
    },
    {
      "cell_type": "markdown",
      "metadata": {
        "id": "kCjed9Qrs-WF"
      },
      "source": [
        "# Cleaning the dataset"
      ]
    },
    {
      "cell_type": "code",
      "execution_count": 10,
      "metadata": {
        "colab": {
          "base_uri": "https://localhost:8080/"
        },
        "id": "qgQNOmq1veQV",
        "outputId": "39e8a37d-eb72-4b64-a06f-ad4d69bf5aa5"
      },
      "outputs": [
        {
          "output_type": "stream",
          "name": "stdout",
          "text": [
            "\n",
            "Selecting desired columns: ['subject', 'sender', 'body', 'label']\n",
            "Columns selected successfully.\n",
            "\n",
            "--- Final Prepared DataFrame ---\n",
            "Shape: 49860 rows, 4 columns\n",
            "                                          subject  \\\n",
            "0                        Re: New Sequences Window   \n",
            "1                       [zzzzteana] RE: Alexander   \n",
            "2                       [zzzzteana] Moscow bomber   \n",
            "3           [IRR] Klez: The Virus That  Won't Die   \n",
            "4  Re: [zzzzteana] Nothing like mama used to make   \n",
            "\n",
            "                                      sender  \\\n",
            "0             Robert Elz <kre@munnari.OZ.AU>   \n",
            "1  Steve Burt <Steve_Burt@cursor-system.com>   \n",
            "2              \"Tim Chapman\" <timc@2ubh.com>   \n",
            "3           Monty Solomon <monty@roscom.com>   \n",
            "4  Stewart Smith <Stewart.Smith@ee.ed.ac.uk>   \n",
            "\n",
            "                                                body  label  \n",
            "0  Date:        Wed, 21 Aug 2002 10:54:46 -0500  ...      0  \n",
            "1  Martin A posted:\\nTassos Papadopoulos, the Gre...      0  \n",
            "2  Man Threatens Explosion In Moscow \\n\\nThursday...      0  \n",
            "3  Klez: The Virus That Won't Die\\n \\nAlready the...      0  \n",
            "4  >  in adding cream to spaghetti carbonara, whi...      0  \n",
            "<class 'pandas.core.frame.DataFrame'>\n",
            "RangeIndex: 49860 entries, 0 to 49859\n",
            "Data columns (total 4 columns):\n",
            " #   Column   Non-Null Count  Dtype \n",
            "---  ------   --------------  ----- \n",
            " 0   subject  49773 non-null  object\n",
            " 1   sender   49529 non-null  object\n",
            " 2   body     49859 non-null  object\n",
            " 3   label    49860 non-null  int64 \n",
            "dtypes: int64(1), object(3)\n",
            "memory usage: 1.5+ MB\n"
          ]
        }
      ],
      "source": [
        "# Handling data here, dropping rows with no body & filling null/NaNs subjects and sender with empty strings\n",
        "\n",
        "if main_df is not None:\n",
        "    desired_columns = ['subject', 'sender', 'body', 'label']\n",
        "\n",
        "    print(f\"\\nSelecting desired columns: {desired_columns}\")\n",
        "\n",
        "    actual_cols_in_df = main_df.columns.tolist()\n",
        "    cols_to_keep = [col for col in desired_columns if col in actual_cols_in_df]\n",
        "    missing_cols = [col for col in desired_columns if col not in cols_to_keep]\n",
        "\n",
        "    if missing_cols:\n",
        "        print(f\"  WARNING: Desired columns expected but NOT found: {missing_cols}\")\n",
        "        print(f\"  Available columns: {actual_cols_in_df}\")\n",
        "\n",
        "    if cols_to_keep:\n",
        "        main_df = main_df[cols_to_keep].copy() # Use .copy() to be safe\n",
        "        print(\"Columns selected successfully.\")\n",
        "\n",
        "        print(\"\\n--- Final Prepared DataFrame ---\")\n",
        "        print(f\"Shape: {main_df.shape[0]} rows, {main_df.shape[1]} columns\")\n",
        "\n",
        "        print(main_df.head())\n",
        "        main_df.info()\n",
        "    else:\n",
        "        print(\"\\n--- ERROR ---\")\n",
        "        print(\"None of the desired columns were found in the combined DataFrame. Cannot proceed.\")\n",
        "        final_df = None\n",
        "\n",
        "else:\n",
        "    print(\"\\nSkipping column selection because DataFrame creation failed or was skipped.\")"
      ]
    },
    {
      "cell_type": "code",
      "execution_count": 11,
      "metadata": {
        "colab": {
          "base_uri": "https://localhost:8080/"
        },
        "id": "lapYTArpWkai",
        "outputId": "413e7233-2cee-4a99-f900-d208c99b60d6"
      },
      "outputs": [
        {
          "output_type": "stream",
          "name": "stdout",
          "text": [
            "Missing values before handling:\n",
            "subject     87\n",
            "sender     331\n",
            "body         1\n",
            "label        0\n",
            "dtype: int64\n",
            "Initial number of rows: 49860\n",
            "Dropped rows where 'body' was missing.\n",
            "Rows removed: 1\n",
            "Current number of rows: 49859\n",
            "Filled 87 missing 'subject' values with empty strings.\n",
            "Filled 331 missing 'sender' values with empty strings.\n",
            "Missing values now:\n",
            "subject    0\n",
            "sender     0\n",
            "body       0\n",
            "label      0\n",
            "dtype: int64\n",
            "Final number of rows: 49859\n",
            "<class 'pandas.core.frame.DataFrame'>\n",
            "Index: 49859 entries, 0 to 49859\n",
            "Data columns (total 4 columns):\n",
            " #   Column   Non-Null Count  Dtype \n",
            "---  ------   --------------  ----- \n",
            " 0   subject  49859 non-null  object\n",
            " 1   sender   49859 non-null  object\n",
            " 2   body     49859 non-null  object\n",
            " 3   label    49859 non-null  int64 \n",
            "dtypes: int64(1), object(3)\n",
            "memory usage: 1.9+ MB\n",
            "None\n"
          ]
        }
      ],
      "source": [
        "if 'main_df' in locals() and isinstance(main_df, pd.DataFrame):\n",
        "    print(\"Missing values before handling:\")\n",
        "    print(main_df.isnull().sum())\n",
        "    initial_rows = len(main_df)\n",
        "    print(f\"Initial number of rows: {initial_rows}\")\n",
        "\n",
        "    # Body strategy: We'll drop the row(s) with missing 'body'\n",
        "    main_df.dropna(subset=['body'], inplace=True)\n",
        "    print(\"Dropped rows where 'body' was missing.\")\n",
        "    rows_after_body = len(main_df)\n",
        "    print(f\"Rows removed: {initial_rows - rows_after_body}\")\n",
        "    print(f\"Current number of rows: {rows_after_body}\")\n",
        "\n",
        "    # Subject strategy: Fill missing 'subject' with an empty string ''\n",
        "    initial_subject_nan = main_df['subject'].isnull().sum()\n",
        "    if initial_subject_nan > 0:\n",
        "        main_df['subject'] = main_df['subject'].fillna('') # Assign back\n",
        "        print(f\"Filled {initial_subject_nan} missing 'subject' values with empty strings.\")\n",
        "    else:\n",
        "        print(\"No missing 'subject' values found to fill.\")\n",
        "\n",
        "    # Sender strategy: Fill missing 'sender' with an empty string ''\n",
        "    initial_sender_nan = main_df['sender'].isnull().sum()\n",
        "    if initial_sender_nan > 0:\n",
        "        main_df['sender'] = main_df['sender'].fillna('') # Assign back\n",
        "        print(f\"Filled {initial_sender_nan} missing 'sender' values with empty strings.\")\n",
        "    else:\n",
        "        print(\"No missing 'sender' values found to fill.\")\n",
        "\n",
        "    print(\"Missing values now:\")\n",
        "    print(main_df.isnull().sum())\n",
        "    final_rows = len(main_df)\n",
        "    print(f\"Final number of rows: {final_rows}\")\n",
        "\n",
        "    print(main_df.info())\n",
        "else:\n",
        "    print(\"--- ERROR ---\")\n",
        "    print(\"DataFrame 'main_df' not found or is not a DataFrame.\")\n",
        "    print(\"Please ensure the previous data loading steps were successful.\")"
      ]
    },
    {
      "cell_type": "code",
      "execution_count": 12,
      "metadata": {
        "colab": {
          "base_uri": "https://localhost:8080/"
        },
        "id": "JaZRKWGoveQY",
        "outputId": "995f4796-37d5-4035-a378-6e39d8f6fcd3"
      },
      "outputs": [
        {
          "output_type": "stream",
          "name": "stdout",
          "text": [
            "\n",
            "--- Applying simple text clean-up ---\n",
            "Cleaning column: subject...\n",
            "Cleaning column: sender...\n",
            "Cleaning column: body...\n",
            "Text cleaning complete.\n"
          ]
        }
      ],
      "source": [
        "# Text clean-up function first\n",
        "def simple_text_clean(text):\n",
        "        if isinstance(text, str):\n",
        "            text = text.lower()\n",
        "            text = re.sub(r'[^a-z0-9\\s]', '', text)  # Remove non-alphanumeric but keep spaces\n",
        "            text = re.sub(r'\\s+', ' ', text).strip()  # Normalize whitespace\n",
        "        else:\n",
        "            text = ''\n",
        "        return text\n",
        "\n",
        "print(\"\\n--- Applying simple text clean-up ---\")\n",
        "for col in ['subject', 'sender', 'body']:\n",
        "    if col in main_df.columns:\n",
        "        print(f\"Cleaning column: {col}...\")\n",
        "        main_df[col] = main_df[col].apply(simple_text_clean)\n",
        "    else:\n",
        "        print(f\"Warning: Column '{col}' not found for cleaning.\")\n",
        "print(\"Text cleaning complete.\")"
      ]
    },
    {
      "cell_type": "code",
      "execution_count": 13,
      "metadata": {
        "colab": {
          "base_uri": "https://localhost:8080/"
        },
        "id": "2zBsl3v7Wq_7",
        "outputId": "79692eb0-339b-4941-e3e9-eb555d5d2b49"
      },
      "outputs": [
        {
          "output_type": "stream",
          "name": "stdout",
          "text": [
            "                                               email  label\n",
            "0  robert elz kremunnariozau re new sequences win...      0\n",
            "1  steve burt steveburtcursorsystemcom zzzzteana ...      0\n",
            "2  tim chapman timc2ubhcom zzzzteana moscow bombe...      0\n",
            "3  monty solomon montyroscomcom irr klez the viru...      0\n",
            "4  stewart smith stewartsmitheeedacuk re zzzztean...      0\n"
          ]
        }
      ],
      "source": [
        "# Joining features to create X and y (feature and label) and variable configurations for the model\n",
        "# --- Defining our model features (X - sender, subject & body) and Target (y = label (Spam or legitimate)) ---\n",
        "feature_columns = []\n",
        "if 'subject' in main_df.columns: feature_columns.append('subject')\n",
        "if 'sender' in main_df.columns: feature_columns.append('sender')\n",
        "if 'body' in main_df.columns: feature_columns.append('body')\n",
        "\n",
        "if not feature_columns or 'label' not in main_df.columns:\n",
        "    print(\"\\n--- ERROR ---\")\n",
        "    print(\"Required email feature columns ('subject', 'sender', 'body') or 'label' column are missing.\")\n",
        "    print(f\"Available columns: {main_df.columns.tolist()}\")\n",
        "else:\n",
        "    main_df['email'] = main_df['sender'] + ' ' + main_df['subject'] + ' ' + main_df['body']\n",
        "    df = main_df[['email', 'label']].copy()\n",
        "\n",
        "    print(df.head())"
      ]
    },
    {
      "cell_type": "code",
      "execution_count": 14,
      "metadata": {
        "colab": {
          "base_uri": "https://localhost:8080/"
        },
        "id": "6obPbZSLx9z3",
        "outputId": "d394352e-eda5-4fcb-a041-b4e2b68fbe00"
      },
      "outputs": [
        {
          "output_type": "stream",
          "name": "stdout",
          "text": [
            "df_train shape: (39887, 2)\n",
            "df_test shape: (9972, 2)\n",
            "train_dataset shape: (39887, 3)\n",
            "test_dataset shape: (9972, 3)\n",
            "\n",
            "Using model: prajjwal1/bert-mini\n"
          ]
        }
      ],
      "source": [
        "# --- Train and Test split ---\n",
        "test_split = 0.2\n",
        "df_train, df_test = train_test_split(df, test_size=test_split, random_state=42)\n",
        "\n",
        "print(f\"df_train shape: {df_train.shape}\")\n",
        "print(f\"df_test shape: {df_test.shape}\")\n",
        "\n",
        "# Convert to hugging face dataset\n",
        "train_dataset = Dataset.from_pandas(df_train)\n",
        "test_dataset = Dataset.from_pandas(df_test)\n",
        "\n",
        "print(f\"train_dataset shape: {train_dataset.shape}\"); print(f\"test_dataset shape: {test_dataset.shape}\")\n",
        "\n",
        "# Update model_name to BERT-Mini\n",
        "model_name = \"prajjwal1/bert-mini\"\n",
        "print(f\"\\nUsing model: {model_name}\")"
      ]
    },
    {
      "cell_type": "markdown",
      "metadata": {
        "id": "AU2qxAKOwuch"
      },
      "source": [
        "# Preprocessing"
      ]
    },
    {
      "cell_type": "code",
      "execution_count": 15,
      "metadata": {
        "id": "7W-tOk7YFytN"
      },
      "outputs": [],
      "source": [
        "from transformers import AutoTokenizer"
      ]
    },
    {
      "cell_type": "code",
      "execution_count": 16,
      "metadata": {
        "colab": {
          "base_uri": "https://localhost:8080/",
          "height": 81,
          "referenced_widgets": [
            "b75c909804c04110bba3aeb9ace83003",
            "485d8a4351c24e5ea2786bd010870f46",
            "446226c5b0414cd4bbc090e61108124b",
            "f5bb15ff7d5b4d838c85cdcd66bc4c68",
            "99048d7254ff4f09a5d8ca1bf0dc436f",
            "05a9a655366f4f698f276cd4dc0981d0",
            "eb6c0b9a6fe747e9af25be22d9b7e366",
            "f698413992a5424598f34f8bd0572bea",
            "ae7ea2d1e53843b8baa0e188224c41e2",
            "8801a01b86244a84bcc7d22ef4b101fd",
            "ed472fa9f4734e14974548fc26638d66",
            "94d1eb6eaf1b43c581c4709d5c5f2dfe",
            "8dbbde4d0bf2400dbc2dd81b11450f35",
            "019830f5485841158180b528a18385a4",
            "6bc1f33ac4fe4638aeb3e1c391496c53",
            "12c0464d5fe14a7bb8a165cfa32f77c5",
            "9f3ce7ed0a984bb4837878b5380818b2",
            "592e78d464cf4173b10872df423eb3e3",
            "32e5b8e79f9b4636912df056fe1796db",
            "6a30385d110f4d0db600c460717bcf7a",
            "8c6c59f5e2664d59aad15f9fd2b324b8",
            "89b2d94c520f4725b59d5d53964c8f8b"
          ]
        },
        "id": "pp-hOn8IWw3M",
        "outputId": "d1c38c87-dc01-4f26-cd2b-e6ad0e76ffff"
      },
      "outputs": [
        {
          "output_type": "display_data",
          "data": {
            "text/plain": [
              "config.json:   0%|          | 0.00/286 [00:00<?, ?B/s]"
            ],
            "application/vnd.jupyter.widget-view+json": {
              "version_major": 2,
              "version_minor": 0,
              "model_id": "b75c909804c04110bba3aeb9ace83003"
            }
          },
          "metadata": {}
        },
        {
          "output_type": "display_data",
          "data": {
            "text/plain": [
              "vocab.txt:   0%|          | 0.00/232k [00:00<?, ?B/s]"
            ],
            "application/vnd.jupyter.widget-view+json": {
              "version_major": 2,
              "version_minor": 0,
              "model_id": "94d1eb6eaf1b43c581c4709d5c5f2dfe"
            }
          },
          "metadata": {}
        }
      ],
      "source": [
        "# Initialize tokenizer for BERT-Mini\n",
        "tokenizer = AutoTokenizer.from_pretrained(model_name)"
      ]
    },
    {
      "cell_type": "code",
      "execution_count": 17,
      "metadata": {
        "id": "huVyQIqLsdnA"
      },
      "outputs": [],
      "source": [
        "def preprocess(examples):\n",
        "  return tokenizer(examples[\"email\"], truncation=True, padding=\"max_length\", max_length=512)"
      ]
    },
    {
      "cell_type": "code",
      "execution_count": 18,
      "metadata": {
        "colab": {
          "base_uri": "https://localhost:8080/",
          "height": 150,
          "referenced_widgets": [
            "329a3bc68e104314a34933c8120a0130",
            "814894a183eb49c3961ce48a053ec566",
            "ad76002f2d174033be4c167006f62595",
            "a817acb7fe80447e9b24ed90e03bc3c8",
            "c56bbefbb525444c841a5be879a698f4",
            "c804f88ca4134d5c9921ac68790ed8f9",
            "bea4dea2127c461190b800d12d299f0d",
            "cec37f135ed7489ca9aa7ef2626339c8",
            "c16511d640c3437b9f3d3d752bdaccfe",
            "31f0e786a883490ca9d54b7789465a0e",
            "4e7b212583da4bd8b71e6346ea55b196",
            "138534b955964103a5a865c8a3bf84fc",
            "0bd22dce0ed24f5488565650c8964f74",
            "a284b006f2804c2aa9af87d41ff0bb95",
            "c547854244d844779d63440dc5eac601",
            "7d757afbcd5c490faab39dd0316ea7d0",
            "22081152e450498eb6cd5c7c2b6035c5",
            "adf6d8a9c7724abd83a7ea1771829a69",
            "d19ff69d9b3042de9f38cbcc12d0a211",
            "eaec7081eec64cf2acf1ccd61cfc8755",
            "ed9b5bbda2d54b84aa828281053f4c62",
            "40816c75ad4e4a99b90f607c66585e80"
          ]
        },
        "id": "7qTTtrHS2L5a",
        "outputId": "03b61c11-e1dc-49f7-8bad-c079a40a3c30"
      },
      "outputs": [
        {
          "output_type": "stream",
          "name": "stdout",
          "text": [
            "\n",
            "--- Tokenizing Data ---\n"
          ]
        },
        {
          "output_type": "display_data",
          "data": {
            "text/plain": [
              "Map:   0%|          | 0/39887 [00:00<?, ? examples/s]"
            ],
            "application/vnd.jupyter.widget-view+json": {
              "version_major": 2,
              "version_minor": 0,
              "model_id": "329a3bc68e104314a34933c8120a0130"
            }
          },
          "metadata": {}
        },
        {
          "output_type": "display_data",
          "data": {
            "text/plain": [
              "Map:   0%|          | 0/9972 [00:00<?, ? examples/s]"
            ],
            "application/vnd.jupyter.widget-view+json": {
              "version_major": 2,
              "version_minor": 0,
              "model_id": "138534b955964103a5a865c8a3bf84fc"
            }
          },
          "metadata": {}
        },
        {
          "output_type": "stream",
          "name": "stdout",
          "text": [
            "Tokenization complete.\n",
            "Example of tokenized input: [101, 2720, 7875, 24206, 26099, 11113, 16052, 3022, 2480, 2575, 9006, 14806, 2015, 2013, 11558, 7592, 2026, 6203, 2077, 1045]...\n"
          ]
        }
      ],
      "source": [
        "print(\"\\n--- Tokenizing Data ---\")\n",
        "tokenized_train_data = train_dataset.map(preprocess, batched=True)\n",
        "tokenized_test_data = test_dataset.map(preprocess, batched=True)\n",
        "print(\"Tokenization complete.\")\n",
        "print(f\"Example of tokenized input: {tokenized_train_data[0]['input_ids'][:20]}...\") # Show first 20 token IDs"
      ]
    },
    {
      "cell_type": "code",
      "execution_count": 20,
      "metadata": {
        "id": "Ij1sUsZ8GTlI"
      },
      "outputs": [],
      "source": [
        "from transformers import AutoModelForSequenceClassification"
      ]
    },
    {
      "cell_type": "code",
      "execution_count": 21,
      "metadata": {
        "colab": {
          "base_uri": "https://localhost:8080/",
          "height": 118,
          "referenced_widgets": [
            "50616dccf6ac424caf0e8dc99b12455d",
            "30a2fff9c79d4001b3f9c21420f6da91",
            "1b4cfe722a1b48798e05893aac793417",
            "47af73b9fcb54bffa10157aa0a8b6850",
            "5907defdb2444207b51705a95829a855",
            "905b9da81d254d3b9ce3286e15d5cc2a",
            "2119e6732960467a9eca53935ecccc40",
            "c96d3bba663d442dad1da0ea220afa10",
            "31b16309c9a340ff91db4021a030a4f5",
            "b1f4a39d1bde4edfbbc3efac278d63f9",
            "16006741d4ac4fde8d7c2e7093e5d811"
          ]
        },
        "id": "Lw2jHc0j2nuQ",
        "outputId": "32e72f20-67da-48ed-d7eb-d5eae3421a69"
      },
      "outputs": [
        {
          "output_type": "display_data",
          "data": {
            "text/plain": [
              "pytorch_model.bin:   0%|          | 0.00/45.1M [00:00<?, ?B/s]"
            ],
            "application/vnd.jupyter.widget-view+json": {
              "version_major": 2,
              "version_minor": 0,
              "model_id": "50616dccf6ac424caf0e8dc99b12455d"
            }
          },
          "metadata": {}
        },
        {
          "output_type": "stream",
          "name": "stderr",
          "text": [
            "Some weights of BertForSequenceClassification were not initialized from the model checkpoint at prajjwal1/bert-mini and are newly initialized: ['classifier.bias', 'classifier.weight']\n",
            "You should probably TRAIN this model on a down-stream task to be able to use it for predictions and inference.\n"
          ]
        },
        {
          "output_type": "stream",
          "name": "stdout",
          "text": [
            "\n",
            "Model prajjwal1/bert-mini loaded for sequence classification with 2 labels.\n"
          ]
        }
      ],
      "source": [
        "# Load BERT-Mini for sequence classification\n",
        "# label_numbers should be defined (e.g., 2 for binary classification)\n",
        "# Ensure label_numbers is defined, e.g.:\n",
        "# label_numbers = 2 # Or based on your dataset\n",
        "label_numbers = 2\n",
        "model = AutoModelForSequenceClassification.from_pretrained(model_name, num_labels=label_numbers)\n",
        "print(f\"\\nModel {model_name} loaded for sequence classification with {label_numbers} labels.\")"
      ]
    },
    {
      "cell_type": "markdown",
      "metadata": {
        "id": "BaLgwosT3HDE"
      },
      "source": [
        "# Training the model"
      ]
    },
    {
      "cell_type": "code",
      "execution_count": 22,
      "metadata": {
        "id": "an9fnNR6Gvhw"
      },
      "outputs": [],
      "source": [
        "from transformers import DataCollatorWithPadding\n",
        "import evaluate\n",
        "import numpy as np"
      ]
    },
    {
      "cell_type": "code",
      "execution_count": 23,
      "metadata": {
        "colab": {
          "base_uri": "https://localhost:8080/",
          "height": 49,
          "referenced_widgets": [
            "b7d6f03cb66742a8a6d55603991a6fc6",
            "990352abe5884dcab37ae3f3454cf9b5",
            "3a14060df3f248d1ad447a84610c55f7",
            "e46d7452bc66400abd90a2cfbdcebf90",
            "30c148d04ac8453aac61ed8433f3e7c9",
            "04959ef81ef446dd8fe5a6774ba66bf6",
            "6eb0aaf50d9841afb9b6f8ce3adc3bb2",
            "11aebb9f68ad4ab5bccd626c35ffbedd",
            "96241fef28864db4a28a992156b6ea4e",
            "5199da4883ed4f27aec53b5f1bf0cf90",
            "ff429fe1a8564a198f53ce557473a9f0"
          ]
        },
        "id": "sfBh5M4s3JNV",
        "outputId": "6627ef51-7046-4b6f-e3cb-372926c22c3b"
      },
      "outputs": [
        {
          "output_type": "display_data",
          "data": {
            "text/plain": [
              "Downloading builder script:   0%|          | 0.00/4.20k [00:00<?, ?B/s]"
            ],
            "application/vnd.jupyter.widget-view+json": {
              "version_major": 2,
              "version_minor": 0,
              "model_id": "b7d6f03cb66742a8a6d55603991a6fc6"
            }
          },
          "metadata": {}
        }
      ],
      "source": [
        "data_collator = DataCollatorWithPadding(tokenizer=tokenizer)\n",
        "metric = evaluate.load(\"accuracy\")\n",
        "\n",
        "def compute_metrics(evaluate_prediction):\n",
        "  logits, labels = evaluate_prediction\n",
        "  predictions = np.argmax(logits, axis=1)\n",
        "  return metric.compute(predictions=predictions, references=labels)"
      ]
    },
    {
      "cell_type": "code",
      "execution_count": 25,
      "metadata": {
        "id": "8go2w15xNaTl"
      },
      "outputs": [],
      "source": [
        "from transformers import TrainingArguments"
      ]
    },
    {
      "cell_type": "code",
      "execution_count": 26,
      "metadata": {
        "id": "5xs1IcYVI52w"
      },
      "outputs": [],
      "source": [
        "training_args = TrainingArguments(\n",
        "    output_dir=\"./results_bert_mini\", # Changed output directory\n",
        "    learning_rate=2e-5, # Common learning rate for BERT fine-tuning\n",
        "    per_device_train_batch_size=16,\n",
        "    per_device_eval_batch_size=16,\n",
        "    num_train_epochs=2,\n",
        "    weight_decay=0.01, # Added weight decay\n",
        "    eval_strategy = \"epoch\",\n",
        "    logging_strategy = \"epoch\",\n",
        "    save_strategy = \"epoch\",\n",
        "    load_best_model_at_end=True, # Load the best model at the end of training\n",
        "    metric_for_best_model=\"accuracy\", # Use accuracy to determine the best model\n",
        ")"
      ]
    },
    {
      "cell_type": "code",
      "execution_count": 27,
      "metadata": {
        "id": "HkYObZWeI5hL"
      },
      "outputs": [],
      "source": [
        "from transformers import Trainer\n",
        "\n",
        "trainer = Trainer(\n",
        "    model=model,\n",
        "    args=training_args,\n",
        "    train_dataset=tokenized_train_data,\n",
        "    eval_dataset=tokenized_test_data,\n",
        "    processing_class=tokenizer, # Corrected: processing_class -> tokenizer\n",
        "    data_collator=data_collator,\n",
        "    compute_metrics=compute_metrics,\n",
        ")"
      ]
    },
    {
      "cell_type": "code",
      "execution_count": 28,
      "metadata": {
        "colab": {
          "base_uri": "https://localhost:8080/",
          "height": 471
        },
        "id": "eJLYUJ9MJaHF",
        "outputId": "35480850-3cf7-4fae-e22c-6841edc71b3a"
      },
      "outputs": [
        {
          "output_type": "stream",
          "name": "stdout",
          "text": [
            "\n",
            "--- Starting Training ---\n"
          ]
        },
        {
          "output_type": "stream",
          "name": "stderr",
          "text": [
            "\u001b[34m\u001b[1mwandb\u001b[0m: \u001b[33mWARNING\u001b[0m The `run_name` is currently set to the same value as `TrainingArguments.output_dir`. If this was not intended, please specify a different run name by setting the `TrainingArguments.run_name` parameter.\n"
          ]
        },
        {
          "output_type": "display_data",
          "data": {
            "text/plain": [
              "<IPython.core.display.Javascript object>"
            ],
            "application/javascript": [
              "\n",
              "        window._wandbApiKey = new Promise((resolve, reject) => {\n",
              "            function loadScript(url) {\n",
              "            return new Promise(function(resolve, reject) {\n",
              "                let newScript = document.createElement(\"script\");\n",
              "                newScript.onerror = reject;\n",
              "                newScript.onload = resolve;\n",
              "                document.body.appendChild(newScript);\n",
              "                newScript.src = url;\n",
              "            });\n",
              "            }\n",
              "            loadScript(\"https://cdn.jsdelivr.net/npm/postmate/build/postmate.min.js\").then(() => {\n",
              "            const iframe = document.createElement('iframe')\n",
              "            iframe.style.cssText = \"width:0;height:0;border:none\"\n",
              "            document.body.appendChild(iframe)\n",
              "            const handshake = new Postmate({\n",
              "                container: iframe,\n",
              "                url: 'https://wandb.ai/authorize'\n",
              "            });\n",
              "            const timeout = setTimeout(() => reject(\"Couldn't auto authenticate\"), 5000)\n",
              "            handshake.then(function(child) {\n",
              "                child.on('authorize', data => {\n",
              "                    clearTimeout(timeout)\n",
              "                    resolve(data)\n",
              "                });\n",
              "            });\n",
              "            })\n",
              "        });\n",
              "    "
            ]
          },
          "metadata": {}
        },
        {
          "output_type": "stream",
          "name": "stderr",
          "text": [
            "\u001b[34m\u001b[1mwandb\u001b[0m: Logging into wandb.ai. (Learn how to deploy a W&B server locally: https://wandb.me/wandb-server)\n",
            "\u001b[34m\u001b[1mwandb\u001b[0m: You can find your API key in your browser here: https://wandb.ai/authorize?ref=models\n",
            "wandb: Paste an API key from your profile and hit enter:"
          ]
        },
        {
          "name": "stdout",
          "output_type": "stream",
          "text": [
            " ··········\n"
          ]
        },
        {
          "output_type": "stream",
          "name": "stderr",
          "text": [
            "\u001b[34m\u001b[1mwandb\u001b[0m: \u001b[33mWARNING\u001b[0m If you're specifying your api key in code, ensure this code is not shared publicly.\n",
            "\u001b[34m\u001b[1mwandb\u001b[0m: \u001b[33mWARNING\u001b[0m Consider setting the WANDB_API_KEY environment variable, or running `wandb login` from the command line.\n",
            "\u001b[34m\u001b[1mwandb\u001b[0m: No netrc file found, creating one.\n",
            "\u001b[34m\u001b[1mwandb\u001b[0m: Appending key for api.wandb.ai to your netrc file: /root/.netrc\n",
            "\u001b[34m\u001b[1mwandb\u001b[0m: Currently logged in as: \u001b[33mu25468023\u001b[0m (\u001b[33mu25468023-university-of-pretoria\u001b[0m) to \u001b[32mhttps://api.wandb.ai\u001b[0m. Use \u001b[1m`wandb login --relogin`\u001b[0m to force relogin\n"
          ]
        },
        {
          "output_type": "display_data",
          "data": {
            "text/plain": [
              "<IPython.core.display.HTML object>"
            ],
            "text/html": [
              "Tracking run with wandb version 0.19.11"
            ]
          },
          "metadata": {}
        },
        {
          "output_type": "display_data",
          "data": {
            "text/plain": [
              "<IPython.core.display.HTML object>"
            ],
            "text/html": [
              "Run data is saved locally in <code>/content/wandb/run-20250516_165014-z9ebytgm</code>"
            ]
          },
          "metadata": {}
        },
        {
          "output_type": "display_data",
          "data": {
            "text/plain": [
              "<IPython.core.display.HTML object>"
            ],
            "text/html": [
              "Syncing run <strong><a href='https://wandb.ai/u25468023-university-of-pretoria/huggingface/runs/z9ebytgm' target=\"_blank\">./results_bert_mini</a></strong> to <a href='https://wandb.ai/u25468023-university-of-pretoria/huggingface' target=\"_blank\">Weights & Biases</a> (<a href='https://wandb.me/developer-guide' target=\"_blank\">docs</a>)<br>"
            ]
          },
          "metadata": {}
        },
        {
          "output_type": "display_data",
          "data": {
            "text/plain": [
              "<IPython.core.display.HTML object>"
            ],
            "text/html": [
              " View project at <a href='https://wandb.ai/u25468023-university-of-pretoria/huggingface' target=\"_blank\">https://wandb.ai/u25468023-university-of-pretoria/huggingface</a>"
            ]
          },
          "metadata": {}
        },
        {
          "output_type": "display_data",
          "data": {
            "text/plain": [
              "<IPython.core.display.HTML object>"
            ],
            "text/html": [
              " View run at <a href='https://wandb.ai/u25468023-university-of-pretoria/huggingface/runs/z9ebytgm' target=\"_blank\">https://wandb.ai/u25468023-university-of-pretoria/huggingface/runs/z9ebytgm</a>"
            ]
          },
          "metadata": {}
        },
        {
          "output_type": "display_data",
          "data": {
            "text/plain": [
              "<IPython.core.display.HTML object>"
            ],
            "text/html": [
              "\n",
              "    <div>\n",
              "      \n",
              "      <progress value='4986' max='4986' style='width:300px; height:20px; vertical-align: middle;'></progress>\n",
              "      [4986/4986 10:17, Epoch 2/2]\n",
              "    </div>\n",
              "    <table border=\"1\" class=\"dataframe\">\n",
              "  <thead>\n",
              " <tr style=\"text-align: left;\">\n",
              "      <th>Epoch</th>\n",
              "      <th>Training Loss</th>\n",
              "      <th>Validation Loss</th>\n",
              "      <th>Accuracy</th>\n",
              "    </tr>\n",
              "  </thead>\n",
              "  <tbody>\n",
              "    <tr>\n",
              "      <td>1</td>\n",
              "      <td>0.098700</td>\n",
              "      <td>0.038881</td>\n",
              "      <td>0.991276</td>\n",
              "    </tr>\n",
              "    <tr>\n",
              "      <td>2</td>\n",
              "      <td>0.032000</td>\n",
              "      <td>0.031891</td>\n",
              "      <td>0.993682</td>\n",
              "    </tr>\n",
              "  </tbody>\n",
              "</table><p>"
            ]
          },
          "metadata": {}
        },
        {
          "output_type": "stream",
          "name": "stdout",
          "text": [
            "Training complete.\n"
          ]
        }
      ],
      "source": [
        "print(\"\\n--- Starting Training ---\")\n",
        "trainer.train()\n",
        "print(\"Training complete.\")"
      ]
    },
    {
      "cell_type": "code",
      "execution_count": 30,
      "metadata": {
        "colab": {
          "base_uri": "https://localhost:8080/"
        },
        "id": "YZLjgNxLN8qQ",
        "outputId": "1a5afd3e-5e4c-475b-cfdf-184c21a08ecb"
      },
      "outputs": [
        {
          "output_type": "stream",
          "name": "stdout",
          "text": [
            "Model saved to cos270_u25468023_bertmini_trained_model\n",
            "Tokenizer saved to cos270_u25468023_bertmini_trained_tokenizer\n"
          ]
        }
      ],
      "source": [
        "# Explicit model saving - important for using later in the prototype\n",
        "saved_model_path = 'cos270_u25468023_bertmini_trained_model'\n",
        "trainer.save_model(saved_model_path)\n",
        "print(f\"Model saved to {saved_model_path}\")\n",
        "\n",
        "saved_tokenizer_path = 'cos270_u25468023_bertmini_trained_tokenizer'\n",
        "tokenizer.save_pretrained(saved_tokenizer_path)\n",
        "print(f\"Tokenizer saved to {saved_tokenizer_path}\")"
      ]
    },
    {
      "cell_type": "code",
      "execution_count": 31,
      "metadata": {
        "id": "qjlJhlUIOORe"
      },
      "outputs": [],
      "source": [
        "from sklearn.metrics import classification_report"
      ]
    },
    {
      "cell_type": "code",
      "execution_count": 32,
      "metadata": {
        "colab": {
          "base_uri": "https://localhost:8080/",
          "height": 208
        },
        "id": "nK5dCCvrOVdE",
        "outputId": "2ccfd790-beff-4e97-f724-6ed025087327"
      },
      "outputs": [
        {
          "output_type": "stream",
          "name": "stdout",
          "text": [
            "\n",
            "--- Evaluating on Training Data ---\n"
          ]
        },
        {
          "output_type": "display_data",
          "data": {
            "text/plain": [
              "<IPython.core.display.HTML object>"
            ],
            "text/html": []
          },
          "metadata": {}
        },
        {
          "output_type": "stream",
          "name": "stdout",
          "text": [
            "              precision    recall  f1-score   support\n",
            "\n",
            "  Legitimate       1.00      0.99      1.00     17162\n",
            "        Spam       1.00      1.00      1.00     22725\n",
            "\n",
            "    accuracy                           1.00     39887\n",
            "   macro avg       1.00      1.00      1.00     39887\n",
            "weighted avg       1.00      1.00      1.00     39887\n",
            "\n"
          ]
        }
      ],
      "source": [
        "# Evaluation on the training data\n",
        "print(\"\\n--- Evaluating on Training Data ---\")\n",
        "train_predictions = trainer.predict(tokenized_train_data)\n",
        "train_preds = np.argmax(train_predictions.predictions, axis=1)\n",
        "train_gt = df_train['label'].tolist() # Ensure this aligns with tokenized_train_data\n",
        "print(classification_report(train_gt, train_preds, target_names=['Legitimate', 'Spam'])) # 0 for Legitimate, 1 for Phishing"
      ]
    },
    {
      "cell_type": "code",
      "execution_count": null,
      "metadata": {
        "colab": {
          "base_uri": "https://localhost:8080/",
          "height": 283
        },
        "id": "PfXIKutgOzvT",
        "outputId": "0005f0fb-d8e1-46a9-c149-cef179b93a02"
      },
      "outputs": [
        {
          "name": "stdout",
          "output_type": "stream",
          "text": [
            "\n",
            "--- Evaluating on Test Data ---\n"
          ]
        },
        {
          "data": {
            "text/html": [],
            "text/plain": [
              "<IPython.core.display.HTML object>"
            ]
          },
          "metadata": {},
          "output_type": "display_data"
        },
        {
          "name": "stdout",
          "output_type": "stream",
          "text": [
            "              precision    recall  f1-score   support\n",
            "\n",
            "  Legitimate       0.99      0.99      0.99      4241\n",
            "        Spam       0.99      1.00      0.99      5731\n",
            "\n",
            "    accuracy                           0.99      9972\n",
            "   macro avg       0.99      0.99      0.99      9972\n",
            "weighted avg       0.99      0.99      0.99      9972\n",
            "\n"
          ]
        },
        {
          "data": {
            "text/html": [
              "\n",
              "    <div>\n",
              "      \n",
              "      <progress value='624' max='624' style='width:300px; height:20px; vertical-align: middle;'></progress>\n",
              "      [624/624 00:23]\n",
              "    </div>\n",
              "    "
            ],
            "text/plain": [
              "<IPython.core.display.HTML object>"
            ]
          },
          "metadata": {},
          "output_type": "display_data"
        },
        {
          "name": "stdout",
          "output_type": "stream",
          "text": [
            "\n",
            "Final evaluation metrics on the test set: {'eval_loss': 0.03571997955441475, 'eval_accuracy': 0.992579221821099, 'eval_runtime': 23.7758, 'eval_samples_per_second': 419.417, 'eval_steps_per_second': 26.245, 'epoch': 2.0}\n"
          ]
        }
      ],
      "source": [
        "# Evaluation on the test data\n",
        "print(\"\\n--- Evaluating on Test Data ---\")\n",
        "test_predictions_output = trainer.predict(tokenized_test_data)\n",
        "test_preds = np.argmax(test_predictions_output.predictions, axis=1)\n",
        "\n",
        "# Ensure that df_test['label'] aligns with the order in tokenized_test_data\n",
        "# If you used shuffle=False in Dataset.from_pandas or ensured order is maintained, this should be fine.\n",
        "test_gt = df_test['label'].tolist()\n",
        "\n",
        "print(classification_report(test_gt, test_preds, target_names=['Legitimate', 'Phishing']))\n",
        "\n",
        "# Display final evaluation metrics from the trainer\n",
        "eval_results = trainer.evaluate()\n",
        "print(f\"\\nFinal evaluation metrics on the test set: {eval_results}\")"
      ]
    },
    {
      "cell_type": "code",
      "execution_count": 35,
      "metadata": {
        "id": "xpCYUAK-8VbQ"
      },
      "outputs": [],
      "source": [
        "import torch"
      ]
    },
    {
      "cell_type": "code",
      "execution_count": 36,
      "metadata": {
        "colab": {
          "base_uri": "https://localhost:8080/"
        },
        "id": "JyCwY68x9MMh",
        "outputId": "79759af9-692a-42be-a385-8bf66712f7f2"
      },
      "outputs": [
        {
          "output_type": "stream",
          "name": "stdout",
          "text": [
            "Using device: cuda\n"
          ]
        }
      ],
      "source": [
        "device = \"cuda\" if torch.cuda.is_available() else \"cpu\"\n",
        "print(\"Using device:\", device)"
      ]
    },
    {
      "cell_type": "code",
      "execution_count": 37,
      "metadata": {
        "colab": {
          "base_uri": "https://localhost:8080/"
        },
        "id": "9BtLoCuAA8XG",
        "outputId": "7b0fb96c-6104-40be-f94a-f45e75fa47c2"
      },
      "outputs": [
        {
          "output_type": "stream",
          "name": "stdout",
          "text": [
            "Example 1\n",
            "Email: trent nelson referredqg6372rentokilinitialcom softtabsfdaapprovednewproducts infosafesecuretoallcountries httpg5lgowblulivefilestorecomy1p0kbqx0qevwcu39mwthnfafxwp24rzzxobzrdbklpcsddu12msobxfxzwsvzyljmaydk1jnc3irz7sjzluyqindexhtml\n",
            "True label: Spam\n",
            "Predicted: Spam\n",
            "---\n",
            "Example 2\n",
            "Email: christy samuels christycoralwavecom create a furore in her bedroom your new bigger and stronger love wand will make your mate culminate faster and brighter see your tool swell in length and width immensely httpwhitedonecom helpless victim is filmed by the attackers friends forsells your next book mickey spillaneacross british society\n",
            "True label: Spam\n",
            "Predicted: Spam\n",
            "---\n",
            "Example 3\n",
            "Email: susan martins smartins1webmailcoza urgentplease help me from mrssusan martins 101 jan smuts avenue craighall johannesburg south africa tel27732250444direct with due respect trust and humility i write you this proposal which i believe will be a great interest to you i found your contact while i was doing a private research on the internet for a reliable and capable foreign partner that will assist my family and i thats why i contacted youi am mrs susan martins the wife of mr john martins of zimbabweduring the current war against famers in zimbabwe and from the support of our president robert mugabe to claim all the white owned farms in our country all the white and black farmers were ordered to surrender their farms to his party members and his followers my husband who was one of the best farmers in our country and treasurer of the farmers cooperation did not support his idea and so the party members invaded my husbands farms and burnt everything in the farm killed my husband and made away with a lot of items in my husbands farm after the death of my husband my children and i decided to move out of zimbabwe because our lives were in danger with the fund that my husband kept in his hidden safe in my house the amount contained in the safe is us305 million thirty million five hundred thousand united states dollars and we decided to move this money to the republic of south africa where we deposited it with a private security company as a valuables in a boxconsignment this i did for security reasons and to keep from public eyesi have two options firstly you can choose to have certain percentage of the money for nominating your account for this transaction or you can go into partnership with me for proper profitable investment of the money in your countrywhichever the option you want feel free to notify me i have also mapped out 5 of this money for all kinds of expenses that might be incured in the process of this transaction if you do not prefer a partnership i am willing to give you 20 of the total money while 75 will be for my family if you are really capable and willing to assist me as soon as you get this message please contact my son wodi martins immediately with the above telephone number 27732250444 or by email he knows also about this transaction for details on how to execute this transaction to the satisfaction of everybody finally i want you to know that your ability to keep confidential information about this transaction is very important as all our hope for a better life depends on this money best regard mrssusan martins for the family\n",
            "True label: Spam\n",
            "Predicted: Spam\n",
            "---\n",
            "Example 4\n",
            "Email: levy dick cmanningraynixoncom make your intimate life more pleasant if you are looking for cheap health shop you wont find better assortment than our site we have everything to help to get rid of deseasesseven if you need quick delivery at your door you can always trust us get the most trustworthy help as fast as a mouse click cowcaptaincom 5 aug 2008 210601 independent one\n",
            "True label: Spam\n",
            "Predicted: Spam\n",
            "---\n",
            "Example 5\n",
            "Email: qydlqcwsiacfymissuesapacheorg bug 5684 patch to spfpm to add detection of all in spf records httpissuesapacheorgspamassassinshowbugcgiid5684 additional comments from tngkeslcpabiz 20071015 1152 in reply to comment 0 a patch that adds two new tests one each for helo and mail from lookups to detect all in the unparsed spf record patch tested only on linux and perl 588 you are receiving this mail because you are the assignee for the bug or are watching the assignee\n",
            "True label: Legitimate\n",
            "Predicted: Legitimate\n",
            "---\n",
            "Example 6\n",
            "Email:  urgent serve trust inc plaza castilla 29814 madrid spain private email address ericsmth1991kro good day i am mreric smith of serve trust securitas samadrid spainplease i will like you to help me in clearing a box containing treasuresus165millionsixteen millionfive hundred thousand dollarswhich has been domant in our vault for the past four years now you at liberty to negotiate you share percentage as compensation for your acceptance to partnershipship with me in this direction and above alli intend to invest my share into properties which shall be under your direct supervision in your country for pending my attaining service retirment age at serve trust inc by statutory implications the box will be handed over to espanan government authorities if not serviced within the next two months i have every details on how you will go about it and will detail you as thanks for your anticipated acceptance mreric smith servizio voice telefona e invia sms dal tuo computer a tariffe vantaggiose scopri come telefonare e videochiamare gratis da pc a pc httpvoicerepubblicait\n",
            "True label: Spam\n",
            "Predicted: Spam\n",
            "---\n",
            "Example 7\n",
            "Email: alex denham p2jjphotmailcom pythonwin32 no subject hi all im just wondering but when i try to accessupdate anything on my tkinter gui from one particular function my whole program crashesfreezes with no error the function is part of a class which handles all the gui drawingevent handling etc the function in question gets called from a win32 designatedwrappolicy class sample code below code this function is part of an idroptarget class the targetwidget was definined in the init method of this functoin and it points to my class which handles the gui def dropself dataobject keystate point effect data dataobjectgetdata15 none 1 1 1 print data nfiles shelldragqueryfilewdatadatahandle 1 print nfiles filenames shelldragqueryfilewdatadatahandle nfile for nfile in rangenfiles print filenames selftargetwidgetfilesdroppedfilenames this calls the filesdropped function of the targetwidget class and passes the filename list to it this function is part of the gui class which inherits from tkintertoplevel the print commands work however if i uncomment the clearinput function which just calls selffilepathinputdelete0 end to clear the text the program hangs same for the second commented line and anything else that requires a call to tk it appears is there some sort of conflict going on between win32 and tk def filesdroppedself filelist print filelist selfclearinput selffilepathinputinserttkinterend filelist0 code im just wondering if theres something i need to do to release the gui im pretty sure its got nothing to do with my code elsewhere because it was all working smoothly before and if i call the filesdropped function from somewhere else not from the idroptarget class i dont have any issues thanks in advance alex be a superhero and win play the iron man mashup game httpwwwironmanmashupcouk\n",
            "True label: Legitimate\n",
            "Predicted: Legitimate\n",
            "---\n",
            "Example 8\n",
            "Email: chua taratoursmtsrs review invoice monkeyorg please review and sign the document review invoice dear jose please sign in to view your invoice this is an automatically created notice sent to josemonkeyorg this letter holds a secure link to monkeyorg email server do not show this email with other people this message was sent to you by monkeyorg electronic signature service\n",
            "True label: Spam\n",
            "Predicted: Spam\n",
            "---\n",
            "Example 9\n",
            "Email: anno siegel hdan8092mailboxtuberlinde patch fieldhash 104 with pureperl support on 22102007 at 1212 rafael garciasuarez wrote code freeze is near ive been out of the loop a bit i just hope its not too late to add support for ben morrows pureperl implementation of hashutilfieldhash as attached the only behavioral difference is that an environment variable perlhufpp is now recognized and the pureperl version is run if it is set the xspart is untouched so no surprizes expected there regards anno\n",
            "True label: Legitimate\n",
            "Predicted: Legitimate\n",
            "---\n",
            "Example 10\n",
            "Email: guilherme polo dsbkydgmailcom re pythondev gsoc student introduction 2008423 martin v lwis see httppythonorgdevbazaar for info and if you have any other issues feel free to ask nick i certainly cant speak for the respective mentors but i feel that use bazaar really isnt the right answer to can i get commit access one motivation for gsoc is also community bonding and having the mentor but not only the mentor comment on the proposed changes and monitor the progress of the project that the development branch sits on the students laptop doesnt really help in that process instead the student would have to push the branch somewhere to a webvisible location now i question whether its the students obligation to find a server himself or whether the mentoring org should provide the infrastructure or failing that google so i think an answer to the question above involving bazaar might be yes but please dont commit to subversion but only to the bazaar repository hi martin what is the point on having a branch in the svn repo if you wont be able to commit maybe i misunderstood what you said so maybe could you clarify that answer regards martin fwiw google does provide the infrastructure students are encouraged required to commit their work to codegooglecom it is required to submit the final and complete work done during gsoc to a project under codegooglecom that project will be automatically created after gsoc ends but yeh we could create another project there to use as a repo for the summer and thank you james tauber effbot and everyone else that accepted me as a student this year too i guess i should create a new thread to introduce myself and my project thanks pythondev mailing list zvlllneumpythonorg httpmailpythonorgmailmanlistinfopythondev unsubscribe httpmailpythonorgmailmanoptionspythondevggpolo40gmailcom guilherme h polo goncalves pythondev mailing list zvlllneumpythonorg httpmailpythonorgmailmanlistinfopythondev unsubscribe httpmailpythonorgmailmanoptionspythondevpythondev40tangomucom\n",
            "True label: Legitimate\n",
            "Predicted: Legitimate\n",
            "---\n",
            "Inference time for 1 example: 0.0039 seconds\n"
          ]
        }
      ],
      "source": [
        "# Testing examples\n",
        "# BERT-Mini\n",
        "import time\n",
        "\n",
        "test_subset = test_dataset.select(range(10))  # Using test_dataset\n",
        "emails = test_subset['email']  # Using 'email' column\n",
        "labels = test_subset['label']\n",
        "start_time = time.time()\n",
        "inputs = tokenizer(emails, return_tensors='pt', padding=True, truncation=True, max_length=512).to(device)  # Using your tokenizer, max_length=512\n",
        "model.eval()  # Using your original model\n",
        "with torch.no_grad():\n",
        "    outputs = model(**inputs)  # Using your original model\n",
        "    preds = outputs.logits.argmax(dim=-1).cpu().numpy()\n",
        "inference_time = time.time() - start_time\n",
        "label_names = ['Legitimate', 'Spam']  # Assuming these are your label names\n",
        "for i, (email, true, pred) in enumerate(zip(emails, labels, preds)):  # Using 'email'\n",
        "    print(f\"Example {i+1}\")\n",
        "    print(\"Email:\", email)  # Using 'email'\n",
        "    print(\"True label:\", label_names[true])\n",
        "    print(\"Predicted:\", label_names[pred])\n",
        "    print(\"---\")\n",
        "print(f\"Inference time for 1 example: {inference_time/len(emails):.4f} seconds\") # calculate the average inference time"
      ]
    },
    {
      "cell_type": "markdown",
      "source": [
        "Trying out LoRa"
      ],
      "metadata": {
        "id": "iDs6sct3EBk_"
      }
    },
    {
      "cell_type": "code",
      "source": [
        "# from peft import LoraConfig, get_peft_model"
      ],
      "metadata": {
        "id": "ul8bX-w1EEbL"
      },
      "execution_count": null,
      "outputs": []
    },
    {
      "cell_type": "code",
      "execution_count": null,
      "metadata": {
        "colab": {
          "base_uri": "https://localhost:8080/",
          "height": 234
        },
        "id": "vhCPrKDy6g8v",
        "outputId": "f8bad00e-dbf3-4184-fe63-8a7f43b22960"
      },
      "outputs": [
        {
          "name": "stderr",
          "output_type": "stream",
          "text": [
            "Some weights of BertForSequenceClassification were not initialized from the model checkpoint at prajjwal1/bert-mini and are newly initialized: ['classifier.bias', 'classifier.weight']\n",
            "You should probably TRAIN this model on a down-stream task to be able to use it for predictions and inference.\n",
            "No label_names provided for model class `PeftModelForSequenceClassification`. Since `PeftModel` hides base models input arguments, if label_names is not given, label_names can't be set automatically within `Trainer`. Note that empty label_names list will be used instead.\n"
          ]
        },
        {
          "name": "stdout",
          "output_type": "stream",
          "text": [
            "trainable params: 33,282 || all params: 11,204,356 || trainable%: 0.2970\n"
          ]
        },
        {
          "data": {
            "text/html": [
              "\n",
              "    <div>\n",
              "      \n",
              "      <progress value='500' max='500' style='width:300px; height:20px; vertical-align: middle;'></progress>\n",
              "      [500/500 00:50, Epoch 2/2]\n",
              "    </div>\n",
              "    <table border=\"1\" class=\"dataframe\">\n",
              "  <thead>\n",
              " <tr style=\"text-align: left;\">\n",
              "      <th>Step</th>\n",
              "      <th>Training Loss</th>\n",
              "    </tr>\n",
              "  </thead>\n",
              "  <tbody>\n",
              "    <tr>\n",
              "      <td>500</td>\n",
              "      <td>0.568700</td>\n",
              "    </tr>\n",
              "  </tbody>\n",
              "</table><p>"
            ],
            "text/plain": [
              "<IPython.core.display.HTML object>"
            ]
          },
          "metadata": {},
          "output_type": "display_data"
        },
        {
          "data": {
            "text/html": [
              "\n",
              "    <div>\n",
              "      \n",
              "      <progress value='63' max='63' style='width:300px; height:20px; vertical-align: middle;'></progress>\n",
              "      [63/63 00:02]\n",
              "    </div>\n",
              "    "
            ],
            "text/plain": [
              "<IPython.core.display.HTML object>"
            ]
          },
          "metadata": {},
          "output_type": "display_data"
        },
        {
          "name": "stdout",
          "output_type": "stream",
          "text": [
            "LoRA test accuracy: 0.812\n"
          ]
        }
      ],
      "source": [
        "# from peft import TaskType\n",
        "\n",
        "# lora_config = LoraConfig(\n",
        "#     r=8,\n",
        "#     lora_alpha=16,\n",
        "#     lora_dropout=0.1,\n",
        "#     bias=\"none\",\n",
        "#     task_type=TaskType.SEQ_CLS,\n",
        "#     target_modules=[\"query\", \"value\"]\n",
        "# )\n",
        "\n",
        "# # Example for BERT-Mini\n",
        "# lora_model = AutoModelForSequenceClassification.from_pretrained(\"prajjwal1/bert-mini\", num_labels=2).to(device)\n",
        "# peft_model = get_peft_model(lora_model, lora_config)\n",
        "# peft_model.print_trainable_parameters()\n",
        "\n",
        "# args = TrainingArguments(\n",
        "#     output_dir=\"lora-minibert-phishing-cos720\",\n",
        "#     per_device_train_batch_size=16,\n",
        "#     per_device_eval_batch_size=16,\n",
        "#     num_train_epochs=2,\n",
        "#     save_strategy=\"no\",\n",
        "#     report_to=\"none\"\n",
        "# )\n",
        "# peft_trainer = Trainer(\n",
        "#     model=peft_model,\n",
        "#     args=args,\n",
        "#     train_dataset=tokenized_train_data.shuffle(seed=42).select(range(4000)),\n",
        "#     eval_dataset=tokenized_test_data.shuffle(seed=42).select(range(1000)),\n",
        "#     compute_metrics=lambda eval_pred: {\"accuracy\": (np.argmax(eval_pred[0], axis=-1) == eval_pred[1]).mean()}\n",
        "# )\n",
        "# peft_trainer.train()\n",
        "# results_lora_mini = peft_trainer.evaluate()\n",
        "# print(\"LoRA test accuracy:\", results_lora_mini[\"eval_accuracy\"])"
      ]
    },
    {
      "cell_type": "code",
      "execution_count": null,
      "metadata": {
        "colab": {
          "base_uri": "https://localhost:8080/",
          "height": 283
        },
        "id": "ru_YgkwZCfyC",
        "outputId": "29971405-6842-475d-eb33-697b844a068e"
      },
      "outputs": [
        {
          "name": "stdout",
          "output_type": "stream",
          "text": [
            "\n",
            "--- Evaluating on Test Data ---\n"
          ]
        },
        {
          "data": {
            "text/html": [],
            "text/plain": [
              "<IPython.core.display.HTML object>"
            ]
          },
          "metadata": {},
          "output_type": "display_data"
        },
        {
          "name": "stdout",
          "output_type": "stream",
          "text": [
            "              precision    recall  f1-score   support\n",
            "\n",
            "  Legitimate       0.76      0.81      0.79      4241\n",
            "        Spam       0.86      0.81      0.83      5731\n",
            "\n",
            "    accuracy                           0.81      9972\n",
            "   macro avg       0.81      0.81      0.81      9972\n",
            "weighted avg       0.82      0.81      0.81      9972\n",
            "\n"
          ]
        },
        {
          "data": {
            "text/html": [
              "\n",
              "    <div>\n",
              "      \n",
              "      <progress value='63' max='63' style='width:300px; height:20px; vertical-align: middle;'></progress>\n",
              "      [63/63 00:02]\n",
              "    </div>\n",
              "    "
            ],
            "text/plain": [
              "<IPython.core.display.HTML object>"
            ]
          },
          "metadata": {},
          "output_type": "display_data"
        },
        {
          "name": "stdout",
          "output_type": "stream",
          "text": [
            "\n",
            "BERT with LoRa inal evaluation metrics on the test set: {'eval_loss': 0.4920993149280548, 'eval_accuracy': 0.812, 'eval_runtime': 2.8436, 'eval_samples_per_second': 351.661, 'eval_steps_per_second': 22.155, 'epoch': 2.0}\n"
          ]
        }
      ],
      "source": [
        "# # Evaluation on the test data\n",
        "# print(\"\\n--- Evaluating on Test Data ---\")\n",
        "# test_predictions_output_lora = peft_trainer.predict(tokenized_test_data)\n",
        "# test_preds_lora = np.argmax(test_predictions_output_lora.predictions, axis=1)\n",
        "\n",
        "# # Ensure that df_test['label'] aligns with the order in tokenized_test_data\n",
        "# # If you used shuffle=False in Dataset.from_pandas or ensured order is maintained, this should be fine.\n",
        "# test_gt_lora = df_test['label'].tolist()\n",
        "\n",
        "# print(classification_report(test_gt_lora, test_preds_lora, target_names=['Legitimate', 'Spam'])) # Assuming 0 for Legitimate, 1 for Spam\n",
        "\n",
        "# # Display final evaluation metrics from the trainer\n",
        "# eval_results_lora = peft_trainer.evaluate()\n",
        "# print(f\"\\nBERT with LoRa inal evaluation metrics on the test set: {eval_results_lora}\")"
      ]
    },
    {
      "cell_type": "code",
      "execution_count": null,
      "metadata": {
        "colab": {
          "base_uri": "https://localhost:8080/"
        },
        "id": "EdHbwAtN6RIp",
        "outputId": "a387c783-c864-429c-92b0-73fcfb79738f"
      },
      "outputs": [
        {
          "name": "stdout",
          "output_type": "stream",
          "text": [
            "Example 1\n",
            "Email: trent nelson referredqg6372rentokilinitialcom softtabsfdaapprovednewproducts infosafesecuretoallcountries httpg5lgowblulivefilestorecomy1p0kbqx0qevwcu39mwthnfafxwp24rzzxobzrdbklpcsddu12msobxfxzwsvzyljmaydk1jnc3irz7sjzluyqindexhtml\n",
            "True label: Spam\n",
            "Predicted (LoRA): Spam\n",
            "---\n",
            "Example 2\n",
            "Email: christy samuels christycoralwavecom create a furore in her bedroom your new bigger and stronger love wand will make your mate culminate faster and brighter see your tool swell in length and width immensely httpwhitedonecom helpless victim is filmed by the attackers friends forsells your next book mickey spillaneacross british society\n",
            "True label: Spam\n",
            "Predicted (LoRA): Spam\n",
            "---\n",
            "Example 3\n",
            "Email: susan martins smartins1webmailcoza urgentplease help me from mrssusan martins 101 jan smuts avenue craighall johannesburg south africa tel27732250444direct with due respect trust and humility i write you this proposal which i believe will be a great interest to you i found your contact while i was doing a private research on the internet for a reliable and capable foreign partner that will assist my family and i thats why i contacted youi am mrs susan martins the wife of mr john martins of zimbabweduring the current war against famers in zimbabwe and from the support of our president robert mugabe to claim all the white owned farms in our country all the white and black farmers were ordered to surrender their farms to his party members and his followers my husband who was one of the best farmers in our country and treasurer of the farmers cooperation did not support his idea and so the party members invaded my husbands farms and burnt everything in the farm killed my husband and made away with a lot of items in my husbands farm after the death of my husband my children and i decided to move out of zimbabwe because our lives were in danger with the fund that my husband kept in his hidden safe in my house the amount contained in the safe is us305 million thirty million five hundred thousand united states dollars and we decided to move this money to the republic of south africa where we deposited it with a private security company as a valuables in a boxconsignment this i did for security reasons and to keep from public eyesi have two options firstly you can choose to have certain percentage of the money for nominating your account for this transaction or you can go into partnership with me for proper profitable investment of the money in your countrywhichever the option you want feel free to notify me i have also mapped out 5 of this money for all kinds of expenses that might be incured in the process of this transaction if you do not prefer a partnership i am willing to give you 20 of the total money while 75 will be for my family if you are really capable and willing to assist me as soon as you get this message please contact my son wodi martins immediately with the above telephone number 27732250444 or by email he knows also about this transaction for details on how to execute this transaction to the satisfaction of everybody finally i want you to know that your ability to keep confidential information about this transaction is very important as all our hope for a better life depends on this money best regard mrssusan martins for the family\n",
            "True label: Spam\n",
            "Predicted (LoRA): Spam\n",
            "---\n",
            "Example 4\n",
            "Email: levy dick cmanningraynixoncom make your intimate life more pleasant if you are looking for cheap health shop you wont find better assortment than our site we have everything to help to get rid of deseasesseven if you need quick delivery at your door you can always trust us get the most trustworthy help as fast as a mouse click cowcaptaincom 5 aug 2008 210601 independent one\n",
            "True label: Spam\n",
            "Predicted (LoRA): Spam\n",
            "---\n",
            "Example 5\n",
            "Email: qydlqcwsiacfymissuesapacheorg bug 5684 patch to spfpm to add detection of all in spf records httpissuesapacheorgspamassassinshowbugcgiid5684 additional comments from tngkeslcpabiz 20071015 1152 in reply to comment 0 a patch that adds two new tests one each for helo and mail from lookups to detect all in the unparsed spf record patch tested only on linux and perl 588 you are receiving this mail because you are the assignee for the bug or are watching the assignee\n",
            "True label: Legitimate\n",
            "Predicted (LoRA): Legitimate\n",
            "---\n",
            "Example 6\n",
            "Email:  urgent serve trust inc plaza castilla 29814 madrid spain private email address ericsmth1991kro good day i am mreric smith of serve trust securitas samadrid spainplease i will like you to help me in clearing a box containing treasuresus165millionsixteen millionfive hundred thousand dollarswhich has been domant in our vault for the past four years now you at liberty to negotiate you share percentage as compensation for your acceptance to partnershipship with me in this direction and above alli intend to invest my share into properties which shall be under your direct supervision in your country for pending my attaining service retirment age at serve trust inc by statutory implications the box will be handed over to espanan government authorities if not serviced within the next two months i have every details on how you will go about it and will detail you as thanks for your anticipated acceptance mreric smith servizio voice telefona e invia sms dal tuo computer a tariffe vantaggiose scopri come telefonare e videochiamare gratis da pc a pc httpvoicerepubblicait\n",
            "True label: Spam\n",
            "Predicted (LoRA): Spam\n",
            "---\n",
            "Example 7\n",
            "Email: alex denham p2jjphotmailcom pythonwin32 no subject hi all im just wondering but when i try to accessupdate anything on my tkinter gui from one particular function my whole program crashesfreezes with no error the function is part of a class which handles all the gui drawingevent handling etc the function in question gets called from a win32 designatedwrappolicy class sample code below code this function is part of an idroptarget class the targetwidget was definined in the init method of this functoin and it points to my class which handles the gui def dropself dataobject keystate point effect data dataobjectgetdata15 none 1 1 1 print data nfiles shelldragqueryfilewdatadatahandle 1 print nfiles filenames shelldragqueryfilewdatadatahandle nfile for nfile in rangenfiles print filenames selftargetwidgetfilesdroppedfilenames this calls the filesdropped function of the targetwidget class and passes the filename list to it this function is part of the gui class which inherits from tkintertoplevel the print commands work however if i uncomment the clearinput function which just calls selffilepathinputdelete0 end to clear the text the program hangs same for the second commented line and anything else that requires a call to tk it appears is there some sort of conflict going on between win32 and tk def filesdroppedself filelist print filelist selfclearinput selffilepathinputinserttkinterend filelist0 code im just wondering if theres something i need to do to release the gui im pretty sure its got nothing to do with my code elsewhere because it was all working smoothly before and if i call the filesdropped function from somewhere else not from the idroptarget class i dont have any issues thanks in advance alex be a superhero and win play the iron man mashup game httpwwwironmanmashupcouk\n",
            "True label: Legitimate\n",
            "Predicted (LoRA): Legitimate\n",
            "---\n",
            "Example 8\n",
            "Email: chua taratoursmtsrs review invoice monkeyorg please review and sign the document review invoice dear jose please sign in to view your invoice this is an automatically created notice sent to josemonkeyorg this letter holds a secure link to monkeyorg email server do not show this email with other people this message was sent to you by monkeyorg electronic signature service\n",
            "True label: Spam\n",
            "Predicted (LoRA): Spam\n",
            "---\n",
            "Example 9\n",
            "Email: anno siegel hdan8092mailboxtuberlinde patch fieldhash 104 with pureperl support on 22102007 at 1212 rafael garciasuarez wrote code freeze is near ive been out of the loop a bit i just hope its not too late to add support for ben morrows pureperl implementation of hashutilfieldhash as attached the only behavioral difference is that an environment variable perlhufpp is now recognized and the pureperl version is run if it is set the xspart is untouched so no surprizes expected there regards anno\n",
            "True label: Legitimate\n",
            "Predicted (LoRA): Spam\n",
            "---\n",
            "Example 10\n",
            "Email: guilherme polo dsbkydgmailcom re pythondev gsoc student introduction 2008423 martin v lwis see httppythonorgdevbazaar for info and if you have any other issues feel free to ask nick i certainly cant speak for the respective mentors but i feel that use bazaar really isnt the right answer to can i get commit access one motivation for gsoc is also community bonding and having the mentor but not only the mentor comment on the proposed changes and monitor the progress of the project that the development branch sits on the students laptop doesnt really help in that process instead the student would have to push the branch somewhere to a webvisible location now i question whether its the students obligation to find a server himself or whether the mentoring org should provide the infrastructure or failing that google so i think an answer to the question above involving bazaar might be yes but please dont commit to subversion but only to the bazaar repository hi martin what is the point on having a branch in the svn repo if you wont be able to commit maybe i misunderstood what you said so maybe could you clarify that answer regards martin fwiw google does provide the infrastructure students are encouraged required to commit their work to codegooglecom it is required to submit the final and complete work done during gsoc to a project under codegooglecom that project will be automatically created after gsoc ends but yeh we could create another project there to use as a repo for the summer and thank you james tauber effbot and everyone else that accepted me as a student this year too i guess i should create a new thread to introduce myself and my project thanks pythondev mailing list zvlllneumpythonorg httpmailpythonorgmailmanlistinfopythondev unsubscribe httpmailpythonorgmailmanoptionspythondevggpolo40gmailcom guilherme h polo goncalves pythondev mailing list zvlllneumpythonorg httpmailpythonorgmailmanlistinfopythondev unsubscribe httpmailpythonorgmailmanoptionspythondevpythondev40tangomucom\n",
            "True label: Legitimate\n",
            "Predicted (LoRA): Legitimate\n",
            "---\n",
            "Inference time for 1 example: 0.0047 seconds\n"
          ]
        }
      ],
      "source": [
        "# # Show predictions for 10 examples with your LoRA model\n",
        "# test_subset = test_dataset.select(range(10))  # Using test_dataset instead of 'dataset'\n",
        "# emails = test_subset['email']  # Using 'email' column instead of 'text'\n",
        "# labels = test_subset['label']\n",
        "# start_time = time.time()\n",
        "# inputs = tokenizer(emails, return_tensors='pt', padding=True, truncation=True, max_length=512).to(device)  # Adjust max_length if needed\n",
        "# peft_model.eval()\n",
        "# with torch.no_grad():\n",
        "#     outputs = peft_model(**inputs)\n",
        "#     preds = outputs.logits.argmax(dim=-1).cpu().numpy()\n",
        "\n",
        "# inference_time = time.time() - start_time\n",
        "\n",
        "# label_names = ['Legitimate', 'Spam']\n",
        "\n",
        "# for i, (email, true, pred) in enumerate(zip(emails, labels, preds)):\n",
        "#     print(f\"Example {i+1}\")\n",
        "#     print(\"Email:\", email)\n",
        "#     print(\"True label:\", label_names[true])\n",
        "#     print(\"Predicted (LoRA):\", label_names[pred])\n",
        "#     print(\"---\")\n",
        "# print(f\"Inference time for 1 example: {inference_time/len(emails):.4f} seconds\") # calculate the average inference time"
      ]
    },
    {
      "cell_type": "code",
      "execution_count": null,
      "metadata": {
        "id": "90V748On-3pR"
      },
      "outputs": [],
      "source": []
    }
  ],
  "metadata": {
    "accelerator": "GPU",
    "colab": {
      "gpuType": "T4",
      "provenance": []
    },
    "kernelspec": {
      "display_name": "Python 3 (ipykernel)",
      "language": "python",
      "name": "python3"
    },
    "language_info": {
      "codemirror_mode": {
        "name": "ipython",
        "version": 3
      },
      "file_extension": ".py",
      "mimetype": "text/x-python",
      "name": "python",
      "nbconvert_exporter": "python",
      "pygments_lexer": "ipython3",
      "version": "3.12.7"
    },
    "widgets": {
      "application/vnd.jupyter.widget-state+json": {
        "1fbd6fc854014036b13d1199fbbc1bb7": {
          "model_module": "@jupyter-widgets/controls",
          "model_name": "HBoxModel",
          "model_module_version": "1.5.0",
          "state": {
            "_dom_classes": [],
            "_model_module": "@jupyter-widgets/controls",
            "_model_module_version": "1.5.0",
            "_model_name": "HBoxModel",
            "_view_count": null,
            "_view_module": "@jupyter-widgets/controls",
            "_view_module_version": "1.5.0",
            "_view_name": "HBoxView",
            "box_style": "",
            "children": [
              "IPY_MODEL_d74a7f7664f7452fa195d72c5bbd7e38",
              "IPY_MODEL_534a34f953e747b69063636ed39a3e0e",
              "IPY_MODEL_08ba4bd21bf44920b2794164012bde94"
            ],
            "layout": "IPY_MODEL_bbbe983083124a9cae9415349beb7791"
          }
        },
        "d74a7f7664f7452fa195d72c5bbd7e38": {
          "model_module": "@jupyter-widgets/controls",
          "model_name": "HTMLModel",
          "model_module_version": "1.5.0",
          "state": {
            "_dom_classes": [],
            "_model_module": "@jupyter-widgets/controls",
            "_model_module_version": "1.5.0",
            "_model_name": "HTMLModel",
            "_view_count": null,
            "_view_module": "@jupyter-widgets/controls",
            "_view_module_version": "1.5.0",
            "_view_name": "HTMLView",
            "description": "",
            "description_tooltip": null,
            "layout": "IPY_MODEL_072f2ff0d6fb4f0f95fb9bca3e5a6f31",
            "placeholder": "​",
            "style": "IPY_MODEL_858e50c563394852bc52903138e8e772",
            "value": "Nigerian_Fraud.csv: 100%"
          }
        },
        "534a34f953e747b69063636ed39a3e0e": {
          "model_module": "@jupyter-widgets/controls",
          "model_name": "FloatProgressModel",
          "model_module_version": "1.5.0",
          "state": {
            "_dom_classes": [],
            "_model_module": "@jupyter-widgets/controls",
            "_model_module_version": "1.5.0",
            "_model_name": "FloatProgressModel",
            "_view_count": null,
            "_view_module": "@jupyter-widgets/controls",
            "_view_module_version": "1.5.0",
            "_view_name": "ProgressView",
            "bar_style": "success",
            "description": "",
            "description_tooltip": null,
            "layout": "IPY_MODEL_371ccf35bdf94e2caf050c1764df5119",
            "max": 9192393,
            "min": 0,
            "orientation": "horizontal",
            "style": "IPY_MODEL_725b56ffb53f487c9a1bc61efc2607c1",
            "value": 9192393
          }
        },
        "08ba4bd21bf44920b2794164012bde94": {
          "model_module": "@jupyter-widgets/controls",
          "model_name": "HTMLModel",
          "model_module_version": "1.5.0",
          "state": {
            "_dom_classes": [],
            "_model_module": "@jupyter-widgets/controls",
            "_model_module_version": "1.5.0",
            "_model_name": "HTMLModel",
            "_view_count": null,
            "_view_module": "@jupyter-widgets/controls",
            "_view_module_version": "1.5.0",
            "_view_name": "HTMLView",
            "description": "",
            "description_tooltip": null,
            "layout": "IPY_MODEL_21c3c174ed684100b24f8a2c1fbef575",
            "placeholder": "​",
            "style": "IPY_MODEL_1c8b3735248d474981ca74bf63d1ac0d",
            "value": " 9.19M/9.19M [00:01&lt;00:00, 6.81MB/s]"
          }
        },
        "bbbe983083124a9cae9415349beb7791": {
          "model_module": "@jupyter-widgets/base",
          "model_name": "LayoutModel",
          "model_module_version": "1.2.0",
          "state": {
            "_model_module": "@jupyter-widgets/base",
            "_model_module_version": "1.2.0",
            "_model_name": "LayoutModel",
            "_view_count": null,
            "_view_module": "@jupyter-widgets/base",
            "_view_module_version": "1.2.0",
            "_view_name": "LayoutView",
            "align_content": null,
            "align_items": null,
            "align_self": null,
            "border": null,
            "bottom": null,
            "display": null,
            "flex": null,
            "flex_flow": null,
            "grid_area": null,
            "grid_auto_columns": null,
            "grid_auto_flow": null,
            "grid_auto_rows": null,
            "grid_column": null,
            "grid_gap": null,
            "grid_row": null,
            "grid_template_areas": null,
            "grid_template_columns": null,
            "grid_template_rows": null,
            "height": null,
            "justify_content": null,
            "justify_items": null,
            "left": null,
            "margin": null,
            "max_height": null,
            "max_width": null,
            "min_height": null,
            "min_width": null,
            "object_fit": null,
            "object_position": null,
            "order": null,
            "overflow": null,
            "overflow_x": null,
            "overflow_y": null,
            "padding": null,
            "right": null,
            "top": null,
            "visibility": null,
            "width": null
          }
        },
        "072f2ff0d6fb4f0f95fb9bca3e5a6f31": {
          "model_module": "@jupyter-widgets/base",
          "model_name": "LayoutModel",
          "model_module_version": "1.2.0",
          "state": {
            "_model_module": "@jupyter-widgets/base",
            "_model_module_version": "1.2.0",
            "_model_name": "LayoutModel",
            "_view_count": null,
            "_view_module": "@jupyter-widgets/base",
            "_view_module_version": "1.2.0",
            "_view_name": "LayoutView",
            "align_content": null,
            "align_items": null,
            "align_self": null,
            "border": null,
            "bottom": null,
            "display": null,
            "flex": null,
            "flex_flow": null,
            "grid_area": null,
            "grid_auto_columns": null,
            "grid_auto_flow": null,
            "grid_auto_rows": null,
            "grid_column": null,
            "grid_gap": null,
            "grid_row": null,
            "grid_template_areas": null,
            "grid_template_columns": null,
            "grid_template_rows": null,
            "height": null,
            "justify_content": null,
            "justify_items": null,
            "left": null,
            "margin": null,
            "max_height": null,
            "max_width": null,
            "min_height": null,
            "min_width": null,
            "object_fit": null,
            "object_position": null,
            "order": null,
            "overflow": null,
            "overflow_x": null,
            "overflow_y": null,
            "padding": null,
            "right": null,
            "top": null,
            "visibility": null,
            "width": null
          }
        },
        "858e50c563394852bc52903138e8e772": {
          "model_module": "@jupyter-widgets/controls",
          "model_name": "DescriptionStyleModel",
          "model_module_version": "1.5.0",
          "state": {
            "_model_module": "@jupyter-widgets/controls",
            "_model_module_version": "1.5.0",
            "_model_name": "DescriptionStyleModel",
            "_view_count": null,
            "_view_module": "@jupyter-widgets/base",
            "_view_module_version": "1.2.0",
            "_view_name": "StyleView",
            "description_width": ""
          }
        },
        "371ccf35bdf94e2caf050c1764df5119": {
          "model_module": "@jupyter-widgets/base",
          "model_name": "LayoutModel",
          "model_module_version": "1.2.0",
          "state": {
            "_model_module": "@jupyter-widgets/base",
            "_model_module_version": "1.2.0",
            "_model_name": "LayoutModel",
            "_view_count": null,
            "_view_module": "@jupyter-widgets/base",
            "_view_module_version": "1.2.0",
            "_view_name": "LayoutView",
            "align_content": null,
            "align_items": null,
            "align_self": null,
            "border": null,
            "bottom": null,
            "display": null,
            "flex": null,
            "flex_flow": null,
            "grid_area": null,
            "grid_auto_columns": null,
            "grid_auto_flow": null,
            "grid_auto_rows": null,
            "grid_column": null,
            "grid_gap": null,
            "grid_row": null,
            "grid_template_areas": null,
            "grid_template_columns": null,
            "grid_template_rows": null,
            "height": null,
            "justify_content": null,
            "justify_items": null,
            "left": null,
            "margin": null,
            "max_height": null,
            "max_width": null,
            "min_height": null,
            "min_width": null,
            "object_fit": null,
            "object_position": null,
            "order": null,
            "overflow": null,
            "overflow_x": null,
            "overflow_y": null,
            "padding": null,
            "right": null,
            "top": null,
            "visibility": null,
            "width": null
          }
        },
        "725b56ffb53f487c9a1bc61efc2607c1": {
          "model_module": "@jupyter-widgets/controls",
          "model_name": "ProgressStyleModel",
          "model_module_version": "1.5.0",
          "state": {
            "_model_module": "@jupyter-widgets/controls",
            "_model_module_version": "1.5.0",
            "_model_name": "ProgressStyleModel",
            "_view_count": null,
            "_view_module": "@jupyter-widgets/base",
            "_view_module_version": "1.2.0",
            "_view_name": "StyleView",
            "bar_color": null,
            "description_width": ""
          }
        },
        "21c3c174ed684100b24f8a2c1fbef575": {
          "model_module": "@jupyter-widgets/base",
          "model_name": "LayoutModel",
          "model_module_version": "1.2.0",
          "state": {
            "_model_module": "@jupyter-widgets/base",
            "_model_module_version": "1.2.0",
            "_model_name": "LayoutModel",
            "_view_count": null,
            "_view_module": "@jupyter-widgets/base",
            "_view_module_version": "1.2.0",
            "_view_name": "LayoutView",
            "align_content": null,
            "align_items": null,
            "align_self": null,
            "border": null,
            "bottom": null,
            "display": null,
            "flex": null,
            "flex_flow": null,
            "grid_area": null,
            "grid_auto_columns": null,
            "grid_auto_flow": null,
            "grid_auto_rows": null,
            "grid_column": null,
            "grid_gap": null,
            "grid_row": null,
            "grid_template_areas": null,
            "grid_template_columns": null,
            "grid_template_rows": null,
            "height": null,
            "justify_content": null,
            "justify_items": null,
            "left": null,
            "margin": null,
            "max_height": null,
            "max_width": null,
            "min_height": null,
            "min_width": null,
            "object_fit": null,
            "object_position": null,
            "order": null,
            "overflow": null,
            "overflow_x": null,
            "overflow_y": null,
            "padding": null,
            "right": null,
            "top": null,
            "visibility": null,
            "width": null
          }
        },
        "1c8b3735248d474981ca74bf63d1ac0d": {
          "model_module": "@jupyter-widgets/controls",
          "model_name": "DescriptionStyleModel",
          "model_module_version": "1.5.0",
          "state": {
            "_model_module": "@jupyter-widgets/controls",
            "_model_module_version": "1.5.0",
            "_model_name": "DescriptionStyleModel",
            "_view_count": null,
            "_view_module": "@jupyter-widgets/base",
            "_view_module_version": "1.2.0",
            "_view_name": "StyleView",
            "description_width": ""
          }
        },
        "28559c984e46493b9ffdd3c4c99f8154": {
          "model_module": "@jupyter-widgets/controls",
          "model_name": "HBoxModel",
          "model_module_version": "1.5.0",
          "state": {
            "_dom_classes": [],
            "_model_module": "@jupyter-widgets/controls",
            "_model_module_version": "1.5.0",
            "_model_name": "HBoxModel",
            "_view_count": null,
            "_view_module": "@jupyter-widgets/controls",
            "_view_module_version": "1.5.0",
            "_view_name": "HBoxView",
            "box_style": "",
            "children": [
              "IPY_MODEL_d66735af9f7c43a39842a467fa9b44ee",
              "IPY_MODEL_bbf82fe5ed324c94954bda52a9e5b8f8",
              "IPY_MODEL_0429a85494e64033a769e1c72ac8ac04"
            ],
            "layout": "IPY_MODEL_da9c3dd595c14ba4b09d7ec22074b905"
          }
        },
        "d66735af9f7c43a39842a467fa9b44ee": {
          "model_module": "@jupyter-widgets/controls",
          "model_name": "HTMLModel",
          "model_module_version": "1.5.0",
          "state": {
            "_dom_classes": [],
            "_model_module": "@jupyter-widgets/controls",
            "_model_module_version": "1.5.0",
            "_model_name": "HTMLModel",
            "_view_count": null,
            "_view_module": "@jupyter-widgets/controls",
            "_view_module_version": "1.5.0",
            "_view_name": "HTMLView",
            "description": "",
            "description_tooltip": null,
            "layout": "IPY_MODEL_a7b506b666674c03bea62a8ba8c9a896",
            "placeholder": "​",
            "style": "IPY_MODEL_3a7d9c7bc76442a0a8e2e123787fa41f",
            "value": "CEAS_08.csv: 100%"
          }
        },
        "bbf82fe5ed324c94954bda52a9e5b8f8": {
          "model_module": "@jupyter-widgets/controls",
          "model_name": "FloatProgressModel",
          "model_module_version": "1.5.0",
          "state": {
            "_dom_classes": [],
            "_model_module": "@jupyter-widgets/controls",
            "_model_module_version": "1.5.0",
            "_model_name": "FloatProgressModel",
            "_view_count": null,
            "_view_module": "@jupyter-widgets/controls",
            "_view_module_version": "1.5.0",
            "_view_name": "ProgressView",
            "bar_style": "success",
            "description": "",
            "description_tooltip": null,
            "layout": "IPY_MODEL_c296476b9c784ab88bd3eced96aa243e",
            "max": 67902056,
            "min": 0,
            "orientation": "horizontal",
            "style": "IPY_MODEL_c4de7cabfd5e4ae5b7cb5455d699ff1e",
            "value": 67902056
          }
        },
        "0429a85494e64033a769e1c72ac8ac04": {
          "model_module": "@jupyter-widgets/controls",
          "model_name": "HTMLModel",
          "model_module_version": "1.5.0",
          "state": {
            "_dom_classes": [],
            "_model_module": "@jupyter-widgets/controls",
            "_model_module_version": "1.5.0",
            "_model_name": "HTMLModel",
            "_view_count": null,
            "_view_module": "@jupyter-widgets/controls",
            "_view_module_version": "1.5.0",
            "_view_name": "HTMLView",
            "description": "",
            "description_tooltip": null,
            "layout": "IPY_MODEL_34efe1849bab40d9bb14e06451c5f07b",
            "placeholder": "​",
            "style": "IPY_MODEL_4154cced03e2466d89f955c768df411c",
            "value": " 67.9M/67.9M [00:03&lt;00:00, 22.9MB/s]"
          }
        },
        "da9c3dd595c14ba4b09d7ec22074b905": {
          "model_module": "@jupyter-widgets/base",
          "model_name": "LayoutModel",
          "model_module_version": "1.2.0",
          "state": {
            "_model_module": "@jupyter-widgets/base",
            "_model_module_version": "1.2.0",
            "_model_name": "LayoutModel",
            "_view_count": null,
            "_view_module": "@jupyter-widgets/base",
            "_view_module_version": "1.2.0",
            "_view_name": "LayoutView",
            "align_content": null,
            "align_items": null,
            "align_self": null,
            "border": null,
            "bottom": null,
            "display": null,
            "flex": null,
            "flex_flow": null,
            "grid_area": null,
            "grid_auto_columns": null,
            "grid_auto_flow": null,
            "grid_auto_rows": null,
            "grid_column": null,
            "grid_gap": null,
            "grid_row": null,
            "grid_template_areas": null,
            "grid_template_columns": null,
            "grid_template_rows": null,
            "height": null,
            "justify_content": null,
            "justify_items": null,
            "left": null,
            "margin": null,
            "max_height": null,
            "max_width": null,
            "min_height": null,
            "min_width": null,
            "object_fit": null,
            "object_position": null,
            "order": null,
            "overflow": null,
            "overflow_x": null,
            "overflow_y": null,
            "padding": null,
            "right": null,
            "top": null,
            "visibility": null,
            "width": null
          }
        },
        "a7b506b666674c03bea62a8ba8c9a896": {
          "model_module": "@jupyter-widgets/base",
          "model_name": "LayoutModel",
          "model_module_version": "1.2.0",
          "state": {
            "_model_module": "@jupyter-widgets/base",
            "_model_module_version": "1.2.0",
            "_model_name": "LayoutModel",
            "_view_count": null,
            "_view_module": "@jupyter-widgets/base",
            "_view_module_version": "1.2.0",
            "_view_name": "LayoutView",
            "align_content": null,
            "align_items": null,
            "align_self": null,
            "border": null,
            "bottom": null,
            "display": null,
            "flex": null,
            "flex_flow": null,
            "grid_area": null,
            "grid_auto_columns": null,
            "grid_auto_flow": null,
            "grid_auto_rows": null,
            "grid_column": null,
            "grid_gap": null,
            "grid_row": null,
            "grid_template_areas": null,
            "grid_template_columns": null,
            "grid_template_rows": null,
            "height": null,
            "justify_content": null,
            "justify_items": null,
            "left": null,
            "margin": null,
            "max_height": null,
            "max_width": null,
            "min_height": null,
            "min_width": null,
            "object_fit": null,
            "object_position": null,
            "order": null,
            "overflow": null,
            "overflow_x": null,
            "overflow_y": null,
            "padding": null,
            "right": null,
            "top": null,
            "visibility": null,
            "width": null
          }
        },
        "3a7d9c7bc76442a0a8e2e123787fa41f": {
          "model_module": "@jupyter-widgets/controls",
          "model_name": "DescriptionStyleModel",
          "model_module_version": "1.5.0",
          "state": {
            "_model_module": "@jupyter-widgets/controls",
            "_model_module_version": "1.5.0",
            "_model_name": "DescriptionStyleModel",
            "_view_count": null,
            "_view_module": "@jupyter-widgets/base",
            "_view_module_version": "1.2.0",
            "_view_name": "StyleView",
            "description_width": ""
          }
        },
        "c296476b9c784ab88bd3eced96aa243e": {
          "model_module": "@jupyter-widgets/base",
          "model_name": "LayoutModel",
          "model_module_version": "1.2.0",
          "state": {
            "_model_module": "@jupyter-widgets/base",
            "_model_module_version": "1.2.0",
            "_model_name": "LayoutModel",
            "_view_count": null,
            "_view_module": "@jupyter-widgets/base",
            "_view_module_version": "1.2.0",
            "_view_name": "LayoutView",
            "align_content": null,
            "align_items": null,
            "align_self": null,
            "border": null,
            "bottom": null,
            "display": null,
            "flex": null,
            "flex_flow": null,
            "grid_area": null,
            "grid_auto_columns": null,
            "grid_auto_flow": null,
            "grid_auto_rows": null,
            "grid_column": null,
            "grid_gap": null,
            "grid_row": null,
            "grid_template_areas": null,
            "grid_template_columns": null,
            "grid_template_rows": null,
            "height": null,
            "justify_content": null,
            "justify_items": null,
            "left": null,
            "margin": null,
            "max_height": null,
            "max_width": null,
            "min_height": null,
            "min_width": null,
            "object_fit": null,
            "object_position": null,
            "order": null,
            "overflow": null,
            "overflow_x": null,
            "overflow_y": null,
            "padding": null,
            "right": null,
            "top": null,
            "visibility": null,
            "width": null
          }
        },
        "c4de7cabfd5e4ae5b7cb5455d699ff1e": {
          "model_module": "@jupyter-widgets/controls",
          "model_name": "ProgressStyleModel",
          "model_module_version": "1.5.0",
          "state": {
            "_model_module": "@jupyter-widgets/controls",
            "_model_module_version": "1.5.0",
            "_model_name": "ProgressStyleModel",
            "_view_count": null,
            "_view_module": "@jupyter-widgets/base",
            "_view_module_version": "1.2.0",
            "_view_name": "StyleView",
            "bar_color": null,
            "description_width": ""
          }
        },
        "34efe1849bab40d9bb14e06451c5f07b": {
          "model_module": "@jupyter-widgets/base",
          "model_name": "LayoutModel",
          "model_module_version": "1.2.0",
          "state": {
            "_model_module": "@jupyter-widgets/base",
            "_model_module_version": "1.2.0",
            "_model_name": "LayoutModel",
            "_view_count": null,
            "_view_module": "@jupyter-widgets/base",
            "_view_module_version": "1.2.0",
            "_view_name": "LayoutView",
            "align_content": null,
            "align_items": null,
            "align_self": null,
            "border": null,
            "bottom": null,
            "display": null,
            "flex": null,
            "flex_flow": null,
            "grid_area": null,
            "grid_auto_columns": null,
            "grid_auto_flow": null,
            "grid_auto_rows": null,
            "grid_column": null,
            "grid_gap": null,
            "grid_row": null,
            "grid_template_areas": null,
            "grid_template_columns": null,
            "grid_template_rows": null,
            "height": null,
            "justify_content": null,
            "justify_items": null,
            "left": null,
            "margin": null,
            "max_height": null,
            "max_width": null,
            "min_height": null,
            "min_width": null,
            "object_fit": null,
            "object_position": null,
            "order": null,
            "overflow": null,
            "overflow_x": null,
            "overflow_y": null,
            "padding": null,
            "right": null,
            "top": null,
            "visibility": null,
            "width": null
          }
        },
        "4154cced03e2466d89f955c768df411c": {
          "model_module": "@jupyter-widgets/controls",
          "model_name": "DescriptionStyleModel",
          "model_module_version": "1.5.0",
          "state": {
            "_model_module": "@jupyter-widgets/controls",
            "_model_module_version": "1.5.0",
            "_model_name": "DescriptionStyleModel",
            "_view_count": null,
            "_view_module": "@jupyter-widgets/base",
            "_view_module_version": "1.2.0",
            "_view_name": "StyleView",
            "description_width": ""
          }
        },
        "fe4abb78551f4136b196b05a92aa73a3": {
          "model_module": "@jupyter-widgets/controls",
          "model_name": "HBoxModel",
          "model_module_version": "1.5.0",
          "state": {
            "_dom_classes": [],
            "_model_module": "@jupyter-widgets/controls",
            "_model_module_version": "1.5.0",
            "_model_name": "HBoxModel",
            "_view_count": null,
            "_view_module": "@jupyter-widgets/controls",
            "_view_module_version": "1.5.0",
            "_view_name": "HBoxView",
            "box_style": "",
            "children": [
              "IPY_MODEL_26eb1f3aab5f4de8b8bb6bee92bde666",
              "IPY_MODEL_c2dfdd79d73b4640a0a143d7d4bfacfa",
              "IPY_MODEL_6a30c06e768a4db1b1c4ec61195ce279"
            ],
            "layout": "IPY_MODEL_7fac1539b53c4ad6b0c3374042f27688"
          }
        },
        "26eb1f3aab5f4de8b8bb6bee92bde666": {
          "model_module": "@jupyter-widgets/controls",
          "model_name": "HTMLModel",
          "model_module_version": "1.5.0",
          "state": {
            "_dom_classes": [],
            "_model_module": "@jupyter-widgets/controls",
            "_model_module_version": "1.5.0",
            "_model_name": "HTMLModel",
            "_view_count": null,
            "_view_module": "@jupyter-widgets/controls",
            "_view_module_version": "1.5.0",
            "_view_name": "HTMLView",
            "description": "",
            "description_tooltip": null,
            "layout": "IPY_MODEL_850b0b353fcb475e853d2649cd08f1a8",
            "placeholder": "​",
            "style": "IPY_MODEL_34cd81c75f044538a8b40a702329e392",
            "value": "Nazario.csv: 100%"
          }
        },
        "c2dfdd79d73b4640a0a143d7d4bfacfa": {
          "model_module": "@jupyter-widgets/controls",
          "model_name": "FloatProgressModel",
          "model_module_version": "1.5.0",
          "state": {
            "_dom_classes": [],
            "_model_module": "@jupyter-widgets/controls",
            "_model_module_version": "1.5.0",
            "_model_name": "FloatProgressModel",
            "_view_count": null,
            "_view_module": "@jupyter-widgets/controls",
            "_view_module_version": "1.5.0",
            "_view_name": "ProgressView",
            "bar_style": "success",
            "description": "",
            "description_tooltip": null,
            "layout": "IPY_MODEL_4a1a6046a05847bf8ca688b132839b1d",
            "max": 7811841,
            "min": 0,
            "orientation": "horizontal",
            "style": "IPY_MODEL_61e05989ca1744d19a2dd39bcbd21e35",
            "value": 7811841
          }
        },
        "6a30c06e768a4db1b1c4ec61195ce279": {
          "model_module": "@jupyter-widgets/controls",
          "model_name": "HTMLModel",
          "model_module_version": "1.5.0",
          "state": {
            "_dom_classes": [],
            "_model_module": "@jupyter-widgets/controls",
            "_model_module_version": "1.5.0",
            "_model_name": "HTMLModel",
            "_view_count": null,
            "_view_module": "@jupyter-widgets/controls",
            "_view_module_version": "1.5.0",
            "_view_name": "HTMLView",
            "description": "",
            "description_tooltip": null,
            "layout": "IPY_MODEL_4069c4a18eae4349b57d577e3cd78e88",
            "placeholder": "​",
            "style": "IPY_MODEL_d3f3f482afe34808a81dfc88943eeff0",
            "value": " 7.81M/7.81M [00:00&lt;00:00, 16.6MB/s]"
          }
        },
        "7fac1539b53c4ad6b0c3374042f27688": {
          "model_module": "@jupyter-widgets/base",
          "model_name": "LayoutModel",
          "model_module_version": "1.2.0",
          "state": {
            "_model_module": "@jupyter-widgets/base",
            "_model_module_version": "1.2.0",
            "_model_name": "LayoutModel",
            "_view_count": null,
            "_view_module": "@jupyter-widgets/base",
            "_view_module_version": "1.2.0",
            "_view_name": "LayoutView",
            "align_content": null,
            "align_items": null,
            "align_self": null,
            "border": null,
            "bottom": null,
            "display": null,
            "flex": null,
            "flex_flow": null,
            "grid_area": null,
            "grid_auto_columns": null,
            "grid_auto_flow": null,
            "grid_auto_rows": null,
            "grid_column": null,
            "grid_gap": null,
            "grid_row": null,
            "grid_template_areas": null,
            "grid_template_columns": null,
            "grid_template_rows": null,
            "height": null,
            "justify_content": null,
            "justify_items": null,
            "left": null,
            "margin": null,
            "max_height": null,
            "max_width": null,
            "min_height": null,
            "min_width": null,
            "object_fit": null,
            "object_position": null,
            "order": null,
            "overflow": null,
            "overflow_x": null,
            "overflow_y": null,
            "padding": null,
            "right": null,
            "top": null,
            "visibility": null,
            "width": null
          }
        },
        "850b0b353fcb475e853d2649cd08f1a8": {
          "model_module": "@jupyter-widgets/base",
          "model_name": "LayoutModel",
          "model_module_version": "1.2.0",
          "state": {
            "_model_module": "@jupyter-widgets/base",
            "_model_module_version": "1.2.0",
            "_model_name": "LayoutModel",
            "_view_count": null,
            "_view_module": "@jupyter-widgets/base",
            "_view_module_version": "1.2.0",
            "_view_name": "LayoutView",
            "align_content": null,
            "align_items": null,
            "align_self": null,
            "border": null,
            "bottom": null,
            "display": null,
            "flex": null,
            "flex_flow": null,
            "grid_area": null,
            "grid_auto_columns": null,
            "grid_auto_flow": null,
            "grid_auto_rows": null,
            "grid_column": null,
            "grid_gap": null,
            "grid_row": null,
            "grid_template_areas": null,
            "grid_template_columns": null,
            "grid_template_rows": null,
            "height": null,
            "justify_content": null,
            "justify_items": null,
            "left": null,
            "margin": null,
            "max_height": null,
            "max_width": null,
            "min_height": null,
            "min_width": null,
            "object_fit": null,
            "object_position": null,
            "order": null,
            "overflow": null,
            "overflow_x": null,
            "overflow_y": null,
            "padding": null,
            "right": null,
            "top": null,
            "visibility": null,
            "width": null
          }
        },
        "34cd81c75f044538a8b40a702329e392": {
          "model_module": "@jupyter-widgets/controls",
          "model_name": "DescriptionStyleModel",
          "model_module_version": "1.5.0",
          "state": {
            "_model_module": "@jupyter-widgets/controls",
            "_model_module_version": "1.5.0",
            "_model_name": "DescriptionStyleModel",
            "_view_count": null,
            "_view_module": "@jupyter-widgets/base",
            "_view_module_version": "1.2.0",
            "_view_name": "StyleView",
            "description_width": ""
          }
        },
        "4a1a6046a05847bf8ca688b132839b1d": {
          "model_module": "@jupyter-widgets/base",
          "model_name": "LayoutModel",
          "model_module_version": "1.2.0",
          "state": {
            "_model_module": "@jupyter-widgets/base",
            "_model_module_version": "1.2.0",
            "_model_name": "LayoutModel",
            "_view_count": null,
            "_view_module": "@jupyter-widgets/base",
            "_view_module_version": "1.2.0",
            "_view_name": "LayoutView",
            "align_content": null,
            "align_items": null,
            "align_self": null,
            "border": null,
            "bottom": null,
            "display": null,
            "flex": null,
            "flex_flow": null,
            "grid_area": null,
            "grid_auto_columns": null,
            "grid_auto_flow": null,
            "grid_auto_rows": null,
            "grid_column": null,
            "grid_gap": null,
            "grid_row": null,
            "grid_template_areas": null,
            "grid_template_columns": null,
            "grid_template_rows": null,
            "height": null,
            "justify_content": null,
            "justify_items": null,
            "left": null,
            "margin": null,
            "max_height": null,
            "max_width": null,
            "min_height": null,
            "min_width": null,
            "object_fit": null,
            "object_position": null,
            "order": null,
            "overflow": null,
            "overflow_x": null,
            "overflow_y": null,
            "padding": null,
            "right": null,
            "top": null,
            "visibility": null,
            "width": null
          }
        },
        "61e05989ca1744d19a2dd39bcbd21e35": {
          "model_module": "@jupyter-widgets/controls",
          "model_name": "ProgressStyleModel",
          "model_module_version": "1.5.0",
          "state": {
            "_model_module": "@jupyter-widgets/controls",
            "_model_module_version": "1.5.0",
            "_model_name": "ProgressStyleModel",
            "_view_count": null,
            "_view_module": "@jupyter-widgets/base",
            "_view_module_version": "1.2.0",
            "_view_name": "StyleView",
            "bar_color": null,
            "description_width": ""
          }
        },
        "4069c4a18eae4349b57d577e3cd78e88": {
          "model_module": "@jupyter-widgets/base",
          "model_name": "LayoutModel",
          "model_module_version": "1.2.0",
          "state": {
            "_model_module": "@jupyter-widgets/base",
            "_model_module_version": "1.2.0",
            "_model_name": "LayoutModel",
            "_view_count": null,
            "_view_module": "@jupyter-widgets/base",
            "_view_module_version": "1.2.0",
            "_view_name": "LayoutView",
            "align_content": null,
            "align_items": null,
            "align_self": null,
            "border": null,
            "bottom": null,
            "display": null,
            "flex": null,
            "flex_flow": null,
            "grid_area": null,
            "grid_auto_columns": null,
            "grid_auto_flow": null,
            "grid_auto_rows": null,
            "grid_column": null,
            "grid_gap": null,
            "grid_row": null,
            "grid_template_areas": null,
            "grid_template_columns": null,
            "grid_template_rows": null,
            "height": null,
            "justify_content": null,
            "justify_items": null,
            "left": null,
            "margin": null,
            "max_height": null,
            "max_width": null,
            "min_height": null,
            "min_width": null,
            "object_fit": null,
            "object_position": null,
            "order": null,
            "overflow": null,
            "overflow_x": null,
            "overflow_y": null,
            "padding": null,
            "right": null,
            "top": null,
            "visibility": null,
            "width": null
          }
        },
        "d3f3f482afe34808a81dfc88943eeff0": {
          "model_module": "@jupyter-widgets/controls",
          "model_name": "DescriptionStyleModel",
          "model_module_version": "1.5.0",
          "state": {
            "_model_module": "@jupyter-widgets/controls",
            "_model_module_version": "1.5.0",
            "_model_name": "DescriptionStyleModel",
            "_view_count": null,
            "_view_module": "@jupyter-widgets/base",
            "_view_module_version": "1.2.0",
            "_view_name": "StyleView",
            "description_width": ""
          }
        },
        "b75c909804c04110bba3aeb9ace83003": {
          "model_module": "@jupyter-widgets/controls",
          "model_name": "HBoxModel",
          "model_module_version": "1.5.0",
          "state": {
            "_dom_classes": [],
            "_model_module": "@jupyter-widgets/controls",
            "_model_module_version": "1.5.0",
            "_model_name": "HBoxModel",
            "_view_count": null,
            "_view_module": "@jupyter-widgets/controls",
            "_view_module_version": "1.5.0",
            "_view_name": "HBoxView",
            "box_style": "",
            "children": [
              "IPY_MODEL_485d8a4351c24e5ea2786bd010870f46",
              "IPY_MODEL_446226c5b0414cd4bbc090e61108124b",
              "IPY_MODEL_f5bb15ff7d5b4d838c85cdcd66bc4c68"
            ],
            "layout": "IPY_MODEL_99048d7254ff4f09a5d8ca1bf0dc436f"
          }
        },
        "485d8a4351c24e5ea2786bd010870f46": {
          "model_module": "@jupyter-widgets/controls",
          "model_name": "HTMLModel",
          "model_module_version": "1.5.0",
          "state": {
            "_dom_classes": [],
            "_model_module": "@jupyter-widgets/controls",
            "_model_module_version": "1.5.0",
            "_model_name": "HTMLModel",
            "_view_count": null,
            "_view_module": "@jupyter-widgets/controls",
            "_view_module_version": "1.5.0",
            "_view_name": "HTMLView",
            "description": "",
            "description_tooltip": null,
            "layout": "IPY_MODEL_05a9a655366f4f698f276cd4dc0981d0",
            "placeholder": "​",
            "style": "IPY_MODEL_eb6c0b9a6fe747e9af25be22d9b7e366",
            "value": "config.json: 100%"
          }
        },
        "446226c5b0414cd4bbc090e61108124b": {
          "model_module": "@jupyter-widgets/controls",
          "model_name": "FloatProgressModel",
          "model_module_version": "1.5.0",
          "state": {
            "_dom_classes": [],
            "_model_module": "@jupyter-widgets/controls",
            "_model_module_version": "1.5.0",
            "_model_name": "FloatProgressModel",
            "_view_count": null,
            "_view_module": "@jupyter-widgets/controls",
            "_view_module_version": "1.5.0",
            "_view_name": "ProgressView",
            "bar_style": "success",
            "description": "",
            "description_tooltip": null,
            "layout": "IPY_MODEL_f698413992a5424598f34f8bd0572bea",
            "max": 286,
            "min": 0,
            "orientation": "horizontal",
            "style": "IPY_MODEL_ae7ea2d1e53843b8baa0e188224c41e2",
            "value": 286
          }
        },
        "f5bb15ff7d5b4d838c85cdcd66bc4c68": {
          "model_module": "@jupyter-widgets/controls",
          "model_name": "HTMLModel",
          "model_module_version": "1.5.0",
          "state": {
            "_dom_classes": [],
            "_model_module": "@jupyter-widgets/controls",
            "_model_module_version": "1.5.0",
            "_model_name": "HTMLModel",
            "_view_count": null,
            "_view_module": "@jupyter-widgets/controls",
            "_view_module_version": "1.5.0",
            "_view_name": "HTMLView",
            "description": "",
            "description_tooltip": null,
            "layout": "IPY_MODEL_8801a01b86244a84bcc7d22ef4b101fd",
            "placeholder": "​",
            "style": "IPY_MODEL_ed472fa9f4734e14974548fc26638d66",
            "value": " 286/286 [00:00&lt;00:00, 20.0kB/s]"
          }
        },
        "99048d7254ff4f09a5d8ca1bf0dc436f": {
          "model_module": "@jupyter-widgets/base",
          "model_name": "LayoutModel",
          "model_module_version": "1.2.0",
          "state": {
            "_model_module": "@jupyter-widgets/base",
            "_model_module_version": "1.2.0",
            "_model_name": "LayoutModel",
            "_view_count": null,
            "_view_module": "@jupyter-widgets/base",
            "_view_module_version": "1.2.0",
            "_view_name": "LayoutView",
            "align_content": null,
            "align_items": null,
            "align_self": null,
            "border": null,
            "bottom": null,
            "display": null,
            "flex": null,
            "flex_flow": null,
            "grid_area": null,
            "grid_auto_columns": null,
            "grid_auto_flow": null,
            "grid_auto_rows": null,
            "grid_column": null,
            "grid_gap": null,
            "grid_row": null,
            "grid_template_areas": null,
            "grid_template_columns": null,
            "grid_template_rows": null,
            "height": null,
            "justify_content": null,
            "justify_items": null,
            "left": null,
            "margin": null,
            "max_height": null,
            "max_width": null,
            "min_height": null,
            "min_width": null,
            "object_fit": null,
            "object_position": null,
            "order": null,
            "overflow": null,
            "overflow_x": null,
            "overflow_y": null,
            "padding": null,
            "right": null,
            "top": null,
            "visibility": null,
            "width": null
          }
        },
        "05a9a655366f4f698f276cd4dc0981d0": {
          "model_module": "@jupyter-widgets/base",
          "model_name": "LayoutModel",
          "model_module_version": "1.2.0",
          "state": {
            "_model_module": "@jupyter-widgets/base",
            "_model_module_version": "1.2.0",
            "_model_name": "LayoutModel",
            "_view_count": null,
            "_view_module": "@jupyter-widgets/base",
            "_view_module_version": "1.2.0",
            "_view_name": "LayoutView",
            "align_content": null,
            "align_items": null,
            "align_self": null,
            "border": null,
            "bottom": null,
            "display": null,
            "flex": null,
            "flex_flow": null,
            "grid_area": null,
            "grid_auto_columns": null,
            "grid_auto_flow": null,
            "grid_auto_rows": null,
            "grid_column": null,
            "grid_gap": null,
            "grid_row": null,
            "grid_template_areas": null,
            "grid_template_columns": null,
            "grid_template_rows": null,
            "height": null,
            "justify_content": null,
            "justify_items": null,
            "left": null,
            "margin": null,
            "max_height": null,
            "max_width": null,
            "min_height": null,
            "min_width": null,
            "object_fit": null,
            "object_position": null,
            "order": null,
            "overflow": null,
            "overflow_x": null,
            "overflow_y": null,
            "padding": null,
            "right": null,
            "top": null,
            "visibility": null,
            "width": null
          }
        },
        "eb6c0b9a6fe747e9af25be22d9b7e366": {
          "model_module": "@jupyter-widgets/controls",
          "model_name": "DescriptionStyleModel",
          "model_module_version": "1.5.0",
          "state": {
            "_model_module": "@jupyter-widgets/controls",
            "_model_module_version": "1.5.0",
            "_model_name": "DescriptionStyleModel",
            "_view_count": null,
            "_view_module": "@jupyter-widgets/base",
            "_view_module_version": "1.2.0",
            "_view_name": "StyleView",
            "description_width": ""
          }
        },
        "f698413992a5424598f34f8bd0572bea": {
          "model_module": "@jupyter-widgets/base",
          "model_name": "LayoutModel",
          "model_module_version": "1.2.0",
          "state": {
            "_model_module": "@jupyter-widgets/base",
            "_model_module_version": "1.2.0",
            "_model_name": "LayoutModel",
            "_view_count": null,
            "_view_module": "@jupyter-widgets/base",
            "_view_module_version": "1.2.0",
            "_view_name": "LayoutView",
            "align_content": null,
            "align_items": null,
            "align_self": null,
            "border": null,
            "bottom": null,
            "display": null,
            "flex": null,
            "flex_flow": null,
            "grid_area": null,
            "grid_auto_columns": null,
            "grid_auto_flow": null,
            "grid_auto_rows": null,
            "grid_column": null,
            "grid_gap": null,
            "grid_row": null,
            "grid_template_areas": null,
            "grid_template_columns": null,
            "grid_template_rows": null,
            "height": null,
            "justify_content": null,
            "justify_items": null,
            "left": null,
            "margin": null,
            "max_height": null,
            "max_width": null,
            "min_height": null,
            "min_width": null,
            "object_fit": null,
            "object_position": null,
            "order": null,
            "overflow": null,
            "overflow_x": null,
            "overflow_y": null,
            "padding": null,
            "right": null,
            "top": null,
            "visibility": null,
            "width": null
          }
        },
        "ae7ea2d1e53843b8baa0e188224c41e2": {
          "model_module": "@jupyter-widgets/controls",
          "model_name": "ProgressStyleModel",
          "model_module_version": "1.5.0",
          "state": {
            "_model_module": "@jupyter-widgets/controls",
            "_model_module_version": "1.5.0",
            "_model_name": "ProgressStyleModel",
            "_view_count": null,
            "_view_module": "@jupyter-widgets/base",
            "_view_module_version": "1.2.0",
            "_view_name": "StyleView",
            "bar_color": null,
            "description_width": ""
          }
        },
        "8801a01b86244a84bcc7d22ef4b101fd": {
          "model_module": "@jupyter-widgets/base",
          "model_name": "LayoutModel",
          "model_module_version": "1.2.0",
          "state": {
            "_model_module": "@jupyter-widgets/base",
            "_model_module_version": "1.2.0",
            "_model_name": "LayoutModel",
            "_view_count": null,
            "_view_module": "@jupyter-widgets/base",
            "_view_module_version": "1.2.0",
            "_view_name": "LayoutView",
            "align_content": null,
            "align_items": null,
            "align_self": null,
            "border": null,
            "bottom": null,
            "display": null,
            "flex": null,
            "flex_flow": null,
            "grid_area": null,
            "grid_auto_columns": null,
            "grid_auto_flow": null,
            "grid_auto_rows": null,
            "grid_column": null,
            "grid_gap": null,
            "grid_row": null,
            "grid_template_areas": null,
            "grid_template_columns": null,
            "grid_template_rows": null,
            "height": null,
            "justify_content": null,
            "justify_items": null,
            "left": null,
            "margin": null,
            "max_height": null,
            "max_width": null,
            "min_height": null,
            "min_width": null,
            "object_fit": null,
            "object_position": null,
            "order": null,
            "overflow": null,
            "overflow_x": null,
            "overflow_y": null,
            "padding": null,
            "right": null,
            "top": null,
            "visibility": null,
            "width": null
          }
        },
        "ed472fa9f4734e14974548fc26638d66": {
          "model_module": "@jupyter-widgets/controls",
          "model_name": "DescriptionStyleModel",
          "model_module_version": "1.5.0",
          "state": {
            "_model_module": "@jupyter-widgets/controls",
            "_model_module_version": "1.5.0",
            "_model_name": "DescriptionStyleModel",
            "_view_count": null,
            "_view_module": "@jupyter-widgets/base",
            "_view_module_version": "1.2.0",
            "_view_name": "StyleView",
            "description_width": ""
          }
        },
        "94d1eb6eaf1b43c581c4709d5c5f2dfe": {
          "model_module": "@jupyter-widgets/controls",
          "model_name": "HBoxModel",
          "model_module_version": "1.5.0",
          "state": {
            "_dom_classes": [],
            "_model_module": "@jupyter-widgets/controls",
            "_model_module_version": "1.5.0",
            "_model_name": "HBoxModel",
            "_view_count": null,
            "_view_module": "@jupyter-widgets/controls",
            "_view_module_version": "1.5.0",
            "_view_name": "HBoxView",
            "box_style": "",
            "children": [
              "IPY_MODEL_8dbbde4d0bf2400dbc2dd81b11450f35",
              "IPY_MODEL_019830f5485841158180b528a18385a4",
              "IPY_MODEL_6bc1f33ac4fe4638aeb3e1c391496c53"
            ],
            "layout": "IPY_MODEL_12c0464d5fe14a7bb8a165cfa32f77c5"
          }
        },
        "8dbbde4d0bf2400dbc2dd81b11450f35": {
          "model_module": "@jupyter-widgets/controls",
          "model_name": "HTMLModel",
          "model_module_version": "1.5.0",
          "state": {
            "_dom_classes": [],
            "_model_module": "@jupyter-widgets/controls",
            "_model_module_version": "1.5.0",
            "_model_name": "HTMLModel",
            "_view_count": null,
            "_view_module": "@jupyter-widgets/controls",
            "_view_module_version": "1.5.0",
            "_view_name": "HTMLView",
            "description": "",
            "description_tooltip": null,
            "layout": "IPY_MODEL_9f3ce7ed0a984bb4837878b5380818b2",
            "placeholder": "​",
            "style": "IPY_MODEL_592e78d464cf4173b10872df423eb3e3",
            "value": "vocab.txt: 100%"
          }
        },
        "019830f5485841158180b528a18385a4": {
          "model_module": "@jupyter-widgets/controls",
          "model_name": "FloatProgressModel",
          "model_module_version": "1.5.0",
          "state": {
            "_dom_classes": [],
            "_model_module": "@jupyter-widgets/controls",
            "_model_module_version": "1.5.0",
            "_model_name": "FloatProgressModel",
            "_view_count": null,
            "_view_module": "@jupyter-widgets/controls",
            "_view_module_version": "1.5.0",
            "_view_name": "ProgressView",
            "bar_style": "success",
            "description": "",
            "description_tooltip": null,
            "layout": "IPY_MODEL_32e5b8e79f9b4636912df056fe1796db",
            "max": 231508,
            "min": 0,
            "orientation": "horizontal",
            "style": "IPY_MODEL_6a30385d110f4d0db600c460717bcf7a",
            "value": 231508
          }
        },
        "6bc1f33ac4fe4638aeb3e1c391496c53": {
          "model_module": "@jupyter-widgets/controls",
          "model_name": "HTMLModel",
          "model_module_version": "1.5.0",
          "state": {
            "_dom_classes": [],
            "_model_module": "@jupyter-widgets/controls",
            "_model_module_version": "1.5.0",
            "_model_name": "HTMLModel",
            "_view_count": null,
            "_view_module": "@jupyter-widgets/controls",
            "_view_module_version": "1.5.0",
            "_view_name": "HTMLView",
            "description": "",
            "description_tooltip": null,
            "layout": "IPY_MODEL_8c6c59f5e2664d59aad15f9fd2b324b8",
            "placeholder": "​",
            "style": "IPY_MODEL_89b2d94c520f4725b59d5d53964c8f8b",
            "value": " 232k/232k [00:00&lt;00:00, 23.5MB/s]"
          }
        },
        "12c0464d5fe14a7bb8a165cfa32f77c5": {
          "model_module": "@jupyter-widgets/base",
          "model_name": "LayoutModel",
          "model_module_version": "1.2.0",
          "state": {
            "_model_module": "@jupyter-widgets/base",
            "_model_module_version": "1.2.0",
            "_model_name": "LayoutModel",
            "_view_count": null,
            "_view_module": "@jupyter-widgets/base",
            "_view_module_version": "1.2.0",
            "_view_name": "LayoutView",
            "align_content": null,
            "align_items": null,
            "align_self": null,
            "border": null,
            "bottom": null,
            "display": null,
            "flex": null,
            "flex_flow": null,
            "grid_area": null,
            "grid_auto_columns": null,
            "grid_auto_flow": null,
            "grid_auto_rows": null,
            "grid_column": null,
            "grid_gap": null,
            "grid_row": null,
            "grid_template_areas": null,
            "grid_template_columns": null,
            "grid_template_rows": null,
            "height": null,
            "justify_content": null,
            "justify_items": null,
            "left": null,
            "margin": null,
            "max_height": null,
            "max_width": null,
            "min_height": null,
            "min_width": null,
            "object_fit": null,
            "object_position": null,
            "order": null,
            "overflow": null,
            "overflow_x": null,
            "overflow_y": null,
            "padding": null,
            "right": null,
            "top": null,
            "visibility": null,
            "width": null
          }
        },
        "9f3ce7ed0a984bb4837878b5380818b2": {
          "model_module": "@jupyter-widgets/base",
          "model_name": "LayoutModel",
          "model_module_version": "1.2.0",
          "state": {
            "_model_module": "@jupyter-widgets/base",
            "_model_module_version": "1.2.0",
            "_model_name": "LayoutModel",
            "_view_count": null,
            "_view_module": "@jupyter-widgets/base",
            "_view_module_version": "1.2.0",
            "_view_name": "LayoutView",
            "align_content": null,
            "align_items": null,
            "align_self": null,
            "border": null,
            "bottom": null,
            "display": null,
            "flex": null,
            "flex_flow": null,
            "grid_area": null,
            "grid_auto_columns": null,
            "grid_auto_flow": null,
            "grid_auto_rows": null,
            "grid_column": null,
            "grid_gap": null,
            "grid_row": null,
            "grid_template_areas": null,
            "grid_template_columns": null,
            "grid_template_rows": null,
            "height": null,
            "justify_content": null,
            "justify_items": null,
            "left": null,
            "margin": null,
            "max_height": null,
            "max_width": null,
            "min_height": null,
            "min_width": null,
            "object_fit": null,
            "object_position": null,
            "order": null,
            "overflow": null,
            "overflow_x": null,
            "overflow_y": null,
            "padding": null,
            "right": null,
            "top": null,
            "visibility": null,
            "width": null
          }
        },
        "592e78d464cf4173b10872df423eb3e3": {
          "model_module": "@jupyter-widgets/controls",
          "model_name": "DescriptionStyleModel",
          "model_module_version": "1.5.0",
          "state": {
            "_model_module": "@jupyter-widgets/controls",
            "_model_module_version": "1.5.0",
            "_model_name": "DescriptionStyleModel",
            "_view_count": null,
            "_view_module": "@jupyter-widgets/base",
            "_view_module_version": "1.2.0",
            "_view_name": "StyleView",
            "description_width": ""
          }
        },
        "32e5b8e79f9b4636912df056fe1796db": {
          "model_module": "@jupyter-widgets/base",
          "model_name": "LayoutModel",
          "model_module_version": "1.2.0",
          "state": {
            "_model_module": "@jupyter-widgets/base",
            "_model_module_version": "1.2.0",
            "_model_name": "LayoutModel",
            "_view_count": null,
            "_view_module": "@jupyter-widgets/base",
            "_view_module_version": "1.2.0",
            "_view_name": "LayoutView",
            "align_content": null,
            "align_items": null,
            "align_self": null,
            "border": null,
            "bottom": null,
            "display": null,
            "flex": null,
            "flex_flow": null,
            "grid_area": null,
            "grid_auto_columns": null,
            "grid_auto_flow": null,
            "grid_auto_rows": null,
            "grid_column": null,
            "grid_gap": null,
            "grid_row": null,
            "grid_template_areas": null,
            "grid_template_columns": null,
            "grid_template_rows": null,
            "height": null,
            "justify_content": null,
            "justify_items": null,
            "left": null,
            "margin": null,
            "max_height": null,
            "max_width": null,
            "min_height": null,
            "min_width": null,
            "object_fit": null,
            "object_position": null,
            "order": null,
            "overflow": null,
            "overflow_x": null,
            "overflow_y": null,
            "padding": null,
            "right": null,
            "top": null,
            "visibility": null,
            "width": null
          }
        },
        "6a30385d110f4d0db600c460717bcf7a": {
          "model_module": "@jupyter-widgets/controls",
          "model_name": "ProgressStyleModel",
          "model_module_version": "1.5.0",
          "state": {
            "_model_module": "@jupyter-widgets/controls",
            "_model_module_version": "1.5.0",
            "_model_name": "ProgressStyleModel",
            "_view_count": null,
            "_view_module": "@jupyter-widgets/base",
            "_view_module_version": "1.2.0",
            "_view_name": "StyleView",
            "bar_color": null,
            "description_width": ""
          }
        },
        "8c6c59f5e2664d59aad15f9fd2b324b8": {
          "model_module": "@jupyter-widgets/base",
          "model_name": "LayoutModel",
          "model_module_version": "1.2.0",
          "state": {
            "_model_module": "@jupyter-widgets/base",
            "_model_module_version": "1.2.0",
            "_model_name": "LayoutModel",
            "_view_count": null,
            "_view_module": "@jupyter-widgets/base",
            "_view_module_version": "1.2.0",
            "_view_name": "LayoutView",
            "align_content": null,
            "align_items": null,
            "align_self": null,
            "border": null,
            "bottom": null,
            "display": null,
            "flex": null,
            "flex_flow": null,
            "grid_area": null,
            "grid_auto_columns": null,
            "grid_auto_flow": null,
            "grid_auto_rows": null,
            "grid_column": null,
            "grid_gap": null,
            "grid_row": null,
            "grid_template_areas": null,
            "grid_template_columns": null,
            "grid_template_rows": null,
            "height": null,
            "justify_content": null,
            "justify_items": null,
            "left": null,
            "margin": null,
            "max_height": null,
            "max_width": null,
            "min_height": null,
            "min_width": null,
            "object_fit": null,
            "object_position": null,
            "order": null,
            "overflow": null,
            "overflow_x": null,
            "overflow_y": null,
            "padding": null,
            "right": null,
            "top": null,
            "visibility": null,
            "width": null
          }
        },
        "89b2d94c520f4725b59d5d53964c8f8b": {
          "model_module": "@jupyter-widgets/controls",
          "model_name": "DescriptionStyleModel",
          "model_module_version": "1.5.0",
          "state": {
            "_model_module": "@jupyter-widgets/controls",
            "_model_module_version": "1.5.0",
            "_model_name": "DescriptionStyleModel",
            "_view_count": null,
            "_view_module": "@jupyter-widgets/base",
            "_view_module_version": "1.2.0",
            "_view_name": "StyleView",
            "description_width": ""
          }
        },
        "329a3bc68e104314a34933c8120a0130": {
          "model_module": "@jupyter-widgets/controls",
          "model_name": "HBoxModel",
          "model_module_version": "1.5.0",
          "state": {
            "_dom_classes": [],
            "_model_module": "@jupyter-widgets/controls",
            "_model_module_version": "1.5.0",
            "_model_name": "HBoxModel",
            "_view_count": null,
            "_view_module": "@jupyter-widgets/controls",
            "_view_module_version": "1.5.0",
            "_view_name": "HBoxView",
            "box_style": "",
            "children": [
              "IPY_MODEL_814894a183eb49c3961ce48a053ec566",
              "IPY_MODEL_ad76002f2d174033be4c167006f62595",
              "IPY_MODEL_a817acb7fe80447e9b24ed90e03bc3c8"
            ],
            "layout": "IPY_MODEL_c56bbefbb525444c841a5be879a698f4"
          }
        },
        "814894a183eb49c3961ce48a053ec566": {
          "model_module": "@jupyter-widgets/controls",
          "model_name": "HTMLModel",
          "model_module_version": "1.5.0",
          "state": {
            "_dom_classes": [],
            "_model_module": "@jupyter-widgets/controls",
            "_model_module_version": "1.5.0",
            "_model_name": "HTMLModel",
            "_view_count": null,
            "_view_module": "@jupyter-widgets/controls",
            "_view_module_version": "1.5.0",
            "_view_name": "HTMLView",
            "description": "",
            "description_tooltip": null,
            "layout": "IPY_MODEL_c804f88ca4134d5c9921ac68790ed8f9",
            "placeholder": "​",
            "style": "IPY_MODEL_bea4dea2127c461190b800d12d299f0d",
            "value": "Map: 100%"
          }
        },
        "ad76002f2d174033be4c167006f62595": {
          "model_module": "@jupyter-widgets/controls",
          "model_name": "FloatProgressModel",
          "model_module_version": "1.5.0",
          "state": {
            "_dom_classes": [],
            "_model_module": "@jupyter-widgets/controls",
            "_model_module_version": "1.5.0",
            "_model_name": "FloatProgressModel",
            "_view_count": null,
            "_view_module": "@jupyter-widgets/controls",
            "_view_module_version": "1.5.0",
            "_view_name": "ProgressView",
            "bar_style": "success",
            "description": "",
            "description_tooltip": null,
            "layout": "IPY_MODEL_cec37f135ed7489ca9aa7ef2626339c8",
            "max": 39887,
            "min": 0,
            "orientation": "horizontal",
            "style": "IPY_MODEL_c16511d640c3437b9f3d3d752bdaccfe",
            "value": 39887
          }
        },
        "a817acb7fe80447e9b24ed90e03bc3c8": {
          "model_module": "@jupyter-widgets/controls",
          "model_name": "HTMLModel",
          "model_module_version": "1.5.0",
          "state": {
            "_dom_classes": [],
            "_model_module": "@jupyter-widgets/controls",
            "_model_module_version": "1.5.0",
            "_model_name": "HTMLModel",
            "_view_count": null,
            "_view_module": "@jupyter-widgets/controls",
            "_view_module_version": "1.5.0",
            "_view_name": "HTMLView",
            "description": "",
            "description_tooltip": null,
            "layout": "IPY_MODEL_31f0e786a883490ca9d54b7789465a0e",
            "placeholder": "​",
            "style": "IPY_MODEL_4e7b212583da4bd8b71e6346ea55b196",
            "value": " 39887/39887 [01:22&lt;00:00, 642.17 examples/s]"
          }
        },
        "c56bbefbb525444c841a5be879a698f4": {
          "model_module": "@jupyter-widgets/base",
          "model_name": "LayoutModel",
          "model_module_version": "1.2.0",
          "state": {
            "_model_module": "@jupyter-widgets/base",
            "_model_module_version": "1.2.0",
            "_model_name": "LayoutModel",
            "_view_count": null,
            "_view_module": "@jupyter-widgets/base",
            "_view_module_version": "1.2.0",
            "_view_name": "LayoutView",
            "align_content": null,
            "align_items": null,
            "align_self": null,
            "border": null,
            "bottom": null,
            "display": null,
            "flex": null,
            "flex_flow": null,
            "grid_area": null,
            "grid_auto_columns": null,
            "grid_auto_flow": null,
            "grid_auto_rows": null,
            "grid_column": null,
            "grid_gap": null,
            "grid_row": null,
            "grid_template_areas": null,
            "grid_template_columns": null,
            "grid_template_rows": null,
            "height": null,
            "justify_content": null,
            "justify_items": null,
            "left": null,
            "margin": null,
            "max_height": null,
            "max_width": null,
            "min_height": null,
            "min_width": null,
            "object_fit": null,
            "object_position": null,
            "order": null,
            "overflow": null,
            "overflow_x": null,
            "overflow_y": null,
            "padding": null,
            "right": null,
            "top": null,
            "visibility": null,
            "width": null
          }
        },
        "c804f88ca4134d5c9921ac68790ed8f9": {
          "model_module": "@jupyter-widgets/base",
          "model_name": "LayoutModel",
          "model_module_version": "1.2.0",
          "state": {
            "_model_module": "@jupyter-widgets/base",
            "_model_module_version": "1.2.0",
            "_model_name": "LayoutModel",
            "_view_count": null,
            "_view_module": "@jupyter-widgets/base",
            "_view_module_version": "1.2.0",
            "_view_name": "LayoutView",
            "align_content": null,
            "align_items": null,
            "align_self": null,
            "border": null,
            "bottom": null,
            "display": null,
            "flex": null,
            "flex_flow": null,
            "grid_area": null,
            "grid_auto_columns": null,
            "grid_auto_flow": null,
            "grid_auto_rows": null,
            "grid_column": null,
            "grid_gap": null,
            "grid_row": null,
            "grid_template_areas": null,
            "grid_template_columns": null,
            "grid_template_rows": null,
            "height": null,
            "justify_content": null,
            "justify_items": null,
            "left": null,
            "margin": null,
            "max_height": null,
            "max_width": null,
            "min_height": null,
            "min_width": null,
            "object_fit": null,
            "object_position": null,
            "order": null,
            "overflow": null,
            "overflow_x": null,
            "overflow_y": null,
            "padding": null,
            "right": null,
            "top": null,
            "visibility": null,
            "width": null
          }
        },
        "bea4dea2127c461190b800d12d299f0d": {
          "model_module": "@jupyter-widgets/controls",
          "model_name": "DescriptionStyleModel",
          "model_module_version": "1.5.0",
          "state": {
            "_model_module": "@jupyter-widgets/controls",
            "_model_module_version": "1.5.0",
            "_model_name": "DescriptionStyleModel",
            "_view_count": null,
            "_view_module": "@jupyter-widgets/base",
            "_view_module_version": "1.2.0",
            "_view_name": "StyleView",
            "description_width": ""
          }
        },
        "cec37f135ed7489ca9aa7ef2626339c8": {
          "model_module": "@jupyter-widgets/base",
          "model_name": "LayoutModel",
          "model_module_version": "1.2.0",
          "state": {
            "_model_module": "@jupyter-widgets/base",
            "_model_module_version": "1.2.0",
            "_model_name": "LayoutModel",
            "_view_count": null,
            "_view_module": "@jupyter-widgets/base",
            "_view_module_version": "1.2.0",
            "_view_name": "LayoutView",
            "align_content": null,
            "align_items": null,
            "align_self": null,
            "border": null,
            "bottom": null,
            "display": null,
            "flex": null,
            "flex_flow": null,
            "grid_area": null,
            "grid_auto_columns": null,
            "grid_auto_flow": null,
            "grid_auto_rows": null,
            "grid_column": null,
            "grid_gap": null,
            "grid_row": null,
            "grid_template_areas": null,
            "grid_template_columns": null,
            "grid_template_rows": null,
            "height": null,
            "justify_content": null,
            "justify_items": null,
            "left": null,
            "margin": null,
            "max_height": null,
            "max_width": null,
            "min_height": null,
            "min_width": null,
            "object_fit": null,
            "object_position": null,
            "order": null,
            "overflow": null,
            "overflow_x": null,
            "overflow_y": null,
            "padding": null,
            "right": null,
            "top": null,
            "visibility": null,
            "width": null
          }
        },
        "c16511d640c3437b9f3d3d752bdaccfe": {
          "model_module": "@jupyter-widgets/controls",
          "model_name": "ProgressStyleModel",
          "model_module_version": "1.5.0",
          "state": {
            "_model_module": "@jupyter-widgets/controls",
            "_model_module_version": "1.5.0",
            "_model_name": "ProgressStyleModel",
            "_view_count": null,
            "_view_module": "@jupyter-widgets/base",
            "_view_module_version": "1.2.0",
            "_view_name": "StyleView",
            "bar_color": null,
            "description_width": ""
          }
        },
        "31f0e786a883490ca9d54b7789465a0e": {
          "model_module": "@jupyter-widgets/base",
          "model_name": "LayoutModel",
          "model_module_version": "1.2.0",
          "state": {
            "_model_module": "@jupyter-widgets/base",
            "_model_module_version": "1.2.0",
            "_model_name": "LayoutModel",
            "_view_count": null,
            "_view_module": "@jupyter-widgets/base",
            "_view_module_version": "1.2.0",
            "_view_name": "LayoutView",
            "align_content": null,
            "align_items": null,
            "align_self": null,
            "border": null,
            "bottom": null,
            "display": null,
            "flex": null,
            "flex_flow": null,
            "grid_area": null,
            "grid_auto_columns": null,
            "grid_auto_flow": null,
            "grid_auto_rows": null,
            "grid_column": null,
            "grid_gap": null,
            "grid_row": null,
            "grid_template_areas": null,
            "grid_template_columns": null,
            "grid_template_rows": null,
            "height": null,
            "justify_content": null,
            "justify_items": null,
            "left": null,
            "margin": null,
            "max_height": null,
            "max_width": null,
            "min_height": null,
            "min_width": null,
            "object_fit": null,
            "object_position": null,
            "order": null,
            "overflow": null,
            "overflow_x": null,
            "overflow_y": null,
            "padding": null,
            "right": null,
            "top": null,
            "visibility": null,
            "width": null
          }
        },
        "4e7b212583da4bd8b71e6346ea55b196": {
          "model_module": "@jupyter-widgets/controls",
          "model_name": "DescriptionStyleModel",
          "model_module_version": "1.5.0",
          "state": {
            "_model_module": "@jupyter-widgets/controls",
            "_model_module_version": "1.5.0",
            "_model_name": "DescriptionStyleModel",
            "_view_count": null,
            "_view_module": "@jupyter-widgets/base",
            "_view_module_version": "1.2.0",
            "_view_name": "StyleView",
            "description_width": ""
          }
        },
        "138534b955964103a5a865c8a3bf84fc": {
          "model_module": "@jupyter-widgets/controls",
          "model_name": "HBoxModel",
          "model_module_version": "1.5.0",
          "state": {
            "_dom_classes": [],
            "_model_module": "@jupyter-widgets/controls",
            "_model_module_version": "1.5.0",
            "_model_name": "HBoxModel",
            "_view_count": null,
            "_view_module": "@jupyter-widgets/controls",
            "_view_module_version": "1.5.0",
            "_view_name": "HBoxView",
            "box_style": "",
            "children": [
              "IPY_MODEL_0bd22dce0ed24f5488565650c8964f74",
              "IPY_MODEL_a284b006f2804c2aa9af87d41ff0bb95",
              "IPY_MODEL_c547854244d844779d63440dc5eac601"
            ],
            "layout": "IPY_MODEL_7d757afbcd5c490faab39dd0316ea7d0"
          }
        },
        "0bd22dce0ed24f5488565650c8964f74": {
          "model_module": "@jupyter-widgets/controls",
          "model_name": "HTMLModel",
          "model_module_version": "1.5.0",
          "state": {
            "_dom_classes": [],
            "_model_module": "@jupyter-widgets/controls",
            "_model_module_version": "1.5.0",
            "_model_name": "HTMLModel",
            "_view_count": null,
            "_view_module": "@jupyter-widgets/controls",
            "_view_module_version": "1.5.0",
            "_view_name": "HTMLView",
            "description": "",
            "description_tooltip": null,
            "layout": "IPY_MODEL_22081152e450498eb6cd5c7c2b6035c5",
            "placeholder": "​",
            "style": "IPY_MODEL_adf6d8a9c7724abd83a7ea1771829a69",
            "value": "Map: 100%"
          }
        },
        "a284b006f2804c2aa9af87d41ff0bb95": {
          "model_module": "@jupyter-widgets/controls",
          "model_name": "FloatProgressModel",
          "model_module_version": "1.5.0",
          "state": {
            "_dom_classes": [],
            "_model_module": "@jupyter-widgets/controls",
            "_model_module_version": "1.5.0",
            "_model_name": "FloatProgressModel",
            "_view_count": null,
            "_view_module": "@jupyter-widgets/controls",
            "_view_module_version": "1.5.0",
            "_view_name": "ProgressView",
            "bar_style": "success",
            "description": "",
            "description_tooltip": null,
            "layout": "IPY_MODEL_d19ff69d9b3042de9f38cbcc12d0a211",
            "max": 9972,
            "min": 0,
            "orientation": "horizontal",
            "style": "IPY_MODEL_eaec7081eec64cf2acf1ccd61cfc8755",
            "value": 9972
          }
        },
        "c547854244d844779d63440dc5eac601": {
          "model_module": "@jupyter-widgets/controls",
          "model_name": "HTMLModel",
          "model_module_version": "1.5.0",
          "state": {
            "_dom_classes": [],
            "_model_module": "@jupyter-widgets/controls",
            "_model_module_version": "1.5.0",
            "_model_name": "HTMLModel",
            "_view_count": null,
            "_view_module": "@jupyter-widgets/controls",
            "_view_module_version": "1.5.0",
            "_view_name": "HTMLView",
            "description": "",
            "description_tooltip": null,
            "layout": "IPY_MODEL_ed9b5bbda2d54b84aa828281053f4c62",
            "placeholder": "​",
            "style": "IPY_MODEL_40816c75ad4e4a99b90f607c66585e80",
            "value": " 9972/9972 [00:17&lt;00:00, 551.66 examples/s]"
          }
        },
        "7d757afbcd5c490faab39dd0316ea7d0": {
          "model_module": "@jupyter-widgets/base",
          "model_name": "LayoutModel",
          "model_module_version": "1.2.0",
          "state": {
            "_model_module": "@jupyter-widgets/base",
            "_model_module_version": "1.2.0",
            "_model_name": "LayoutModel",
            "_view_count": null,
            "_view_module": "@jupyter-widgets/base",
            "_view_module_version": "1.2.0",
            "_view_name": "LayoutView",
            "align_content": null,
            "align_items": null,
            "align_self": null,
            "border": null,
            "bottom": null,
            "display": null,
            "flex": null,
            "flex_flow": null,
            "grid_area": null,
            "grid_auto_columns": null,
            "grid_auto_flow": null,
            "grid_auto_rows": null,
            "grid_column": null,
            "grid_gap": null,
            "grid_row": null,
            "grid_template_areas": null,
            "grid_template_columns": null,
            "grid_template_rows": null,
            "height": null,
            "justify_content": null,
            "justify_items": null,
            "left": null,
            "margin": null,
            "max_height": null,
            "max_width": null,
            "min_height": null,
            "min_width": null,
            "object_fit": null,
            "object_position": null,
            "order": null,
            "overflow": null,
            "overflow_x": null,
            "overflow_y": null,
            "padding": null,
            "right": null,
            "top": null,
            "visibility": null,
            "width": null
          }
        },
        "22081152e450498eb6cd5c7c2b6035c5": {
          "model_module": "@jupyter-widgets/base",
          "model_name": "LayoutModel",
          "model_module_version": "1.2.0",
          "state": {
            "_model_module": "@jupyter-widgets/base",
            "_model_module_version": "1.2.0",
            "_model_name": "LayoutModel",
            "_view_count": null,
            "_view_module": "@jupyter-widgets/base",
            "_view_module_version": "1.2.0",
            "_view_name": "LayoutView",
            "align_content": null,
            "align_items": null,
            "align_self": null,
            "border": null,
            "bottom": null,
            "display": null,
            "flex": null,
            "flex_flow": null,
            "grid_area": null,
            "grid_auto_columns": null,
            "grid_auto_flow": null,
            "grid_auto_rows": null,
            "grid_column": null,
            "grid_gap": null,
            "grid_row": null,
            "grid_template_areas": null,
            "grid_template_columns": null,
            "grid_template_rows": null,
            "height": null,
            "justify_content": null,
            "justify_items": null,
            "left": null,
            "margin": null,
            "max_height": null,
            "max_width": null,
            "min_height": null,
            "min_width": null,
            "object_fit": null,
            "object_position": null,
            "order": null,
            "overflow": null,
            "overflow_x": null,
            "overflow_y": null,
            "padding": null,
            "right": null,
            "top": null,
            "visibility": null,
            "width": null
          }
        },
        "adf6d8a9c7724abd83a7ea1771829a69": {
          "model_module": "@jupyter-widgets/controls",
          "model_name": "DescriptionStyleModel",
          "model_module_version": "1.5.0",
          "state": {
            "_model_module": "@jupyter-widgets/controls",
            "_model_module_version": "1.5.0",
            "_model_name": "DescriptionStyleModel",
            "_view_count": null,
            "_view_module": "@jupyter-widgets/base",
            "_view_module_version": "1.2.0",
            "_view_name": "StyleView",
            "description_width": ""
          }
        },
        "d19ff69d9b3042de9f38cbcc12d0a211": {
          "model_module": "@jupyter-widgets/base",
          "model_name": "LayoutModel",
          "model_module_version": "1.2.0",
          "state": {
            "_model_module": "@jupyter-widgets/base",
            "_model_module_version": "1.2.0",
            "_model_name": "LayoutModel",
            "_view_count": null,
            "_view_module": "@jupyter-widgets/base",
            "_view_module_version": "1.2.0",
            "_view_name": "LayoutView",
            "align_content": null,
            "align_items": null,
            "align_self": null,
            "border": null,
            "bottom": null,
            "display": null,
            "flex": null,
            "flex_flow": null,
            "grid_area": null,
            "grid_auto_columns": null,
            "grid_auto_flow": null,
            "grid_auto_rows": null,
            "grid_column": null,
            "grid_gap": null,
            "grid_row": null,
            "grid_template_areas": null,
            "grid_template_columns": null,
            "grid_template_rows": null,
            "height": null,
            "justify_content": null,
            "justify_items": null,
            "left": null,
            "margin": null,
            "max_height": null,
            "max_width": null,
            "min_height": null,
            "min_width": null,
            "object_fit": null,
            "object_position": null,
            "order": null,
            "overflow": null,
            "overflow_x": null,
            "overflow_y": null,
            "padding": null,
            "right": null,
            "top": null,
            "visibility": null,
            "width": null
          }
        },
        "eaec7081eec64cf2acf1ccd61cfc8755": {
          "model_module": "@jupyter-widgets/controls",
          "model_name": "ProgressStyleModel",
          "model_module_version": "1.5.0",
          "state": {
            "_model_module": "@jupyter-widgets/controls",
            "_model_module_version": "1.5.0",
            "_model_name": "ProgressStyleModel",
            "_view_count": null,
            "_view_module": "@jupyter-widgets/base",
            "_view_module_version": "1.2.0",
            "_view_name": "StyleView",
            "bar_color": null,
            "description_width": ""
          }
        },
        "ed9b5bbda2d54b84aa828281053f4c62": {
          "model_module": "@jupyter-widgets/base",
          "model_name": "LayoutModel",
          "model_module_version": "1.2.0",
          "state": {
            "_model_module": "@jupyter-widgets/base",
            "_model_module_version": "1.2.0",
            "_model_name": "LayoutModel",
            "_view_count": null,
            "_view_module": "@jupyter-widgets/base",
            "_view_module_version": "1.2.0",
            "_view_name": "LayoutView",
            "align_content": null,
            "align_items": null,
            "align_self": null,
            "border": null,
            "bottom": null,
            "display": null,
            "flex": null,
            "flex_flow": null,
            "grid_area": null,
            "grid_auto_columns": null,
            "grid_auto_flow": null,
            "grid_auto_rows": null,
            "grid_column": null,
            "grid_gap": null,
            "grid_row": null,
            "grid_template_areas": null,
            "grid_template_columns": null,
            "grid_template_rows": null,
            "height": null,
            "justify_content": null,
            "justify_items": null,
            "left": null,
            "margin": null,
            "max_height": null,
            "max_width": null,
            "min_height": null,
            "min_width": null,
            "object_fit": null,
            "object_position": null,
            "order": null,
            "overflow": null,
            "overflow_x": null,
            "overflow_y": null,
            "padding": null,
            "right": null,
            "top": null,
            "visibility": null,
            "width": null
          }
        },
        "40816c75ad4e4a99b90f607c66585e80": {
          "model_module": "@jupyter-widgets/controls",
          "model_name": "DescriptionStyleModel",
          "model_module_version": "1.5.0",
          "state": {
            "_model_module": "@jupyter-widgets/controls",
            "_model_module_version": "1.5.0",
            "_model_name": "DescriptionStyleModel",
            "_view_count": null,
            "_view_module": "@jupyter-widgets/base",
            "_view_module_version": "1.2.0",
            "_view_name": "StyleView",
            "description_width": ""
          }
        },
        "50616dccf6ac424caf0e8dc99b12455d": {
          "model_module": "@jupyter-widgets/controls",
          "model_name": "HBoxModel",
          "model_module_version": "1.5.0",
          "state": {
            "_dom_classes": [],
            "_model_module": "@jupyter-widgets/controls",
            "_model_module_version": "1.5.0",
            "_model_name": "HBoxModel",
            "_view_count": null,
            "_view_module": "@jupyter-widgets/controls",
            "_view_module_version": "1.5.0",
            "_view_name": "HBoxView",
            "box_style": "",
            "children": [
              "IPY_MODEL_30a2fff9c79d4001b3f9c21420f6da91",
              "IPY_MODEL_1b4cfe722a1b48798e05893aac793417",
              "IPY_MODEL_47af73b9fcb54bffa10157aa0a8b6850"
            ],
            "layout": "IPY_MODEL_5907defdb2444207b51705a95829a855"
          }
        },
        "30a2fff9c79d4001b3f9c21420f6da91": {
          "model_module": "@jupyter-widgets/controls",
          "model_name": "HTMLModel",
          "model_module_version": "1.5.0",
          "state": {
            "_dom_classes": [],
            "_model_module": "@jupyter-widgets/controls",
            "_model_module_version": "1.5.0",
            "_model_name": "HTMLModel",
            "_view_count": null,
            "_view_module": "@jupyter-widgets/controls",
            "_view_module_version": "1.5.0",
            "_view_name": "HTMLView",
            "description": "",
            "description_tooltip": null,
            "layout": "IPY_MODEL_905b9da81d254d3b9ce3286e15d5cc2a",
            "placeholder": "​",
            "style": "IPY_MODEL_2119e6732960467a9eca53935ecccc40",
            "value": "pytorch_model.bin: 100%"
          }
        },
        "1b4cfe722a1b48798e05893aac793417": {
          "model_module": "@jupyter-widgets/controls",
          "model_name": "FloatProgressModel",
          "model_module_version": "1.5.0",
          "state": {
            "_dom_classes": [],
            "_model_module": "@jupyter-widgets/controls",
            "_model_module_version": "1.5.0",
            "_model_name": "FloatProgressModel",
            "_view_count": null,
            "_view_module": "@jupyter-widgets/controls",
            "_view_module_version": "1.5.0",
            "_view_name": "ProgressView",
            "bar_style": "success",
            "description": "",
            "description_tooltip": null,
            "layout": "IPY_MODEL_c96d3bba663d442dad1da0ea220afa10",
            "max": 45106985,
            "min": 0,
            "orientation": "horizontal",
            "style": "IPY_MODEL_31b16309c9a340ff91db4021a030a4f5",
            "value": 45106985
          }
        },
        "47af73b9fcb54bffa10157aa0a8b6850": {
          "model_module": "@jupyter-widgets/controls",
          "model_name": "HTMLModel",
          "model_module_version": "1.5.0",
          "state": {
            "_dom_classes": [],
            "_model_module": "@jupyter-widgets/controls",
            "_model_module_version": "1.5.0",
            "_model_name": "HTMLModel",
            "_view_count": null,
            "_view_module": "@jupyter-widgets/controls",
            "_view_module_version": "1.5.0",
            "_view_name": "HTMLView",
            "description": "",
            "description_tooltip": null,
            "layout": "IPY_MODEL_b1f4a39d1bde4edfbbc3efac278d63f9",
            "placeholder": "​",
            "style": "IPY_MODEL_16006741d4ac4fde8d7c2e7093e5d811",
            "value": " 45.1M/45.1M [00:00&lt;00:00, 102MB/s]"
          }
        },
        "5907defdb2444207b51705a95829a855": {
          "model_module": "@jupyter-widgets/base",
          "model_name": "LayoutModel",
          "model_module_version": "1.2.0",
          "state": {
            "_model_module": "@jupyter-widgets/base",
            "_model_module_version": "1.2.0",
            "_model_name": "LayoutModel",
            "_view_count": null,
            "_view_module": "@jupyter-widgets/base",
            "_view_module_version": "1.2.0",
            "_view_name": "LayoutView",
            "align_content": null,
            "align_items": null,
            "align_self": null,
            "border": null,
            "bottom": null,
            "display": null,
            "flex": null,
            "flex_flow": null,
            "grid_area": null,
            "grid_auto_columns": null,
            "grid_auto_flow": null,
            "grid_auto_rows": null,
            "grid_column": null,
            "grid_gap": null,
            "grid_row": null,
            "grid_template_areas": null,
            "grid_template_columns": null,
            "grid_template_rows": null,
            "height": null,
            "justify_content": null,
            "justify_items": null,
            "left": null,
            "margin": null,
            "max_height": null,
            "max_width": null,
            "min_height": null,
            "min_width": null,
            "object_fit": null,
            "object_position": null,
            "order": null,
            "overflow": null,
            "overflow_x": null,
            "overflow_y": null,
            "padding": null,
            "right": null,
            "top": null,
            "visibility": null,
            "width": null
          }
        },
        "905b9da81d254d3b9ce3286e15d5cc2a": {
          "model_module": "@jupyter-widgets/base",
          "model_name": "LayoutModel",
          "model_module_version": "1.2.0",
          "state": {
            "_model_module": "@jupyter-widgets/base",
            "_model_module_version": "1.2.0",
            "_model_name": "LayoutModel",
            "_view_count": null,
            "_view_module": "@jupyter-widgets/base",
            "_view_module_version": "1.2.0",
            "_view_name": "LayoutView",
            "align_content": null,
            "align_items": null,
            "align_self": null,
            "border": null,
            "bottom": null,
            "display": null,
            "flex": null,
            "flex_flow": null,
            "grid_area": null,
            "grid_auto_columns": null,
            "grid_auto_flow": null,
            "grid_auto_rows": null,
            "grid_column": null,
            "grid_gap": null,
            "grid_row": null,
            "grid_template_areas": null,
            "grid_template_columns": null,
            "grid_template_rows": null,
            "height": null,
            "justify_content": null,
            "justify_items": null,
            "left": null,
            "margin": null,
            "max_height": null,
            "max_width": null,
            "min_height": null,
            "min_width": null,
            "object_fit": null,
            "object_position": null,
            "order": null,
            "overflow": null,
            "overflow_x": null,
            "overflow_y": null,
            "padding": null,
            "right": null,
            "top": null,
            "visibility": null,
            "width": null
          }
        },
        "2119e6732960467a9eca53935ecccc40": {
          "model_module": "@jupyter-widgets/controls",
          "model_name": "DescriptionStyleModel",
          "model_module_version": "1.5.0",
          "state": {
            "_model_module": "@jupyter-widgets/controls",
            "_model_module_version": "1.5.0",
            "_model_name": "DescriptionStyleModel",
            "_view_count": null,
            "_view_module": "@jupyter-widgets/base",
            "_view_module_version": "1.2.0",
            "_view_name": "StyleView",
            "description_width": ""
          }
        },
        "c96d3bba663d442dad1da0ea220afa10": {
          "model_module": "@jupyter-widgets/base",
          "model_name": "LayoutModel",
          "model_module_version": "1.2.0",
          "state": {
            "_model_module": "@jupyter-widgets/base",
            "_model_module_version": "1.2.0",
            "_model_name": "LayoutModel",
            "_view_count": null,
            "_view_module": "@jupyter-widgets/base",
            "_view_module_version": "1.2.0",
            "_view_name": "LayoutView",
            "align_content": null,
            "align_items": null,
            "align_self": null,
            "border": null,
            "bottom": null,
            "display": null,
            "flex": null,
            "flex_flow": null,
            "grid_area": null,
            "grid_auto_columns": null,
            "grid_auto_flow": null,
            "grid_auto_rows": null,
            "grid_column": null,
            "grid_gap": null,
            "grid_row": null,
            "grid_template_areas": null,
            "grid_template_columns": null,
            "grid_template_rows": null,
            "height": null,
            "justify_content": null,
            "justify_items": null,
            "left": null,
            "margin": null,
            "max_height": null,
            "max_width": null,
            "min_height": null,
            "min_width": null,
            "object_fit": null,
            "object_position": null,
            "order": null,
            "overflow": null,
            "overflow_x": null,
            "overflow_y": null,
            "padding": null,
            "right": null,
            "top": null,
            "visibility": null,
            "width": null
          }
        },
        "31b16309c9a340ff91db4021a030a4f5": {
          "model_module": "@jupyter-widgets/controls",
          "model_name": "ProgressStyleModel",
          "model_module_version": "1.5.0",
          "state": {
            "_model_module": "@jupyter-widgets/controls",
            "_model_module_version": "1.5.0",
            "_model_name": "ProgressStyleModel",
            "_view_count": null,
            "_view_module": "@jupyter-widgets/base",
            "_view_module_version": "1.2.0",
            "_view_name": "StyleView",
            "bar_color": null,
            "description_width": ""
          }
        },
        "b1f4a39d1bde4edfbbc3efac278d63f9": {
          "model_module": "@jupyter-widgets/base",
          "model_name": "LayoutModel",
          "model_module_version": "1.2.0",
          "state": {
            "_model_module": "@jupyter-widgets/base",
            "_model_module_version": "1.2.0",
            "_model_name": "LayoutModel",
            "_view_count": null,
            "_view_module": "@jupyter-widgets/base",
            "_view_module_version": "1.2.0",
            "_view_name": "LayoutView",
            "align_content": null,
            "align_items": null,
            "align_self": null,
            "border": null,
            "bottom": null,
            "display": null,
            "flex": null,
            "flex_flow": null,
            "grid_area": null,
            "grid_auto_columns": null,
            "grid_auto_flow": null,
            "grid_auto_rows": null,
            "grid_column": null,
            "grid_gap": null,
            "grid_row": null,
            "grid_template_areas": null,
            "grid_template_columns": null,
            "grid_template_rows": null,
            "height": null,
            "justify_content": null,
            "justify_items": null,
            "left": null,
            "margin": null,
            "max_height": null,
            "max_width": null,
            "min_height": null,
            "min_width": null,
            "object_fit": null,
            "object_position": null,
            "order": null,
            "overflow": null,
            "overflow_x": null,
            "overflow_y": null,
            "padding": null,
            "right": null,
            "top": null,
            "visibility": null,
            "width": null
          }
        },
        "16006741d4ac4fde8d7c2e7093e5d811": {
          "model_module": "@jupyter-widgets/controls",
          "model_name": "DescriptionStyleModel",
          "model_module_version": "1.5.0",
          "state": {
            "_model_module": "@jupyter-widgets/controls",
            "_model_module_version": "1.5.0",
            "_model_name": "DescriptionStyleModel",
            "_view_count": null,
            "_view_module": "@jupyter-widgets/base",
            "_view_module_version": "1.2.0",
            "_view_name": "StyleView",
            "description_width": ""
          }
        },
        "b7d6f03cb66742a8a6d55603991a6fc6": {
          "model_module": "@jupyter-widgets/controls",
          "model_name": "HBoxModel",
          "model_module_version": "1.5.0",
          "state": {
            "_dom_classes": [],
            "_model_module": "@jupyter-widgets/controls",
            "_model_module_version": "1.5.0",
            "_model_name": "HBoxModel",
            "_view_count": null,
            "_view_module": "@jupyter-widgets/controls",
            "_view_module_version": "1.5.0",
            "_view_name": "HBoxView",
            "box_style": "",
            "children": [
              "IPY_MODEL_990352abe5884dcab37ae3f3454cf9b5",
              "IPY_MODEL_3a14060df3f248d1ad447a84610c55f7",
              "IPY_MODEL_e46d7452bc66400abd90a2cfbdcebf90"
            ],
            "layout": "IPY_MODEL_30c148d04ac8453aac61ed8433f3e7c9"
          }
        },
        "990352abe5884dcab37ae3f3454cf9b5": {
          "model_module": "@jupyter-widgets/controls",
          "model_name": "HTMLModel",
          "model_module_version": "1.5.0",
          "state": {
            "_dom_classes": [],
            "_model_module": "@jupyter-widgets/controls",
            "_model_module_version": "1.5.0",
            "_model_name": "HTMLModel",
            "_view_count": null,
            "_view_module": "@jupyter-widgets/controls",
            "_view_module_version": "1.5.0",
            "_view_name": "HTMLView",
            "description": "",
            "description_tooltip": null,
            "layout": "IPY_MODEL_04959ef81ef446dd8fe5a6774ba66bf6",
            "placeholder": "​",
            "style": "IPY_MODEL_6eb0aaf50d9841afb9b6f8ce3adc3bb2",
            "value": "Downloading builder script: 100%"
          }
        },
        "3a14060df3f248d1ad447a84610c55f7": {
          "model_module": "@jupyter-widgets/controls",
          "model_name": "FloatProgressModel",
          "model_module_version": "1.5.0",
          "state": {
            "_dom_classes": [],
            "_model_module": "@jupyter-widgets/controls",
            "_model_module_version": "1.5.0",
            "_model_name": "FloatProgressModel",
            "_view_count": null,
            "_view_module": "@jupyter-widgets/controls",
            "_view_module_version": "1.5.0",
            "_view_name": "ProgressView",
            "bar_style": "success",
            "description": "",
            "description_tooltip": null,
            "layout": "IPY_MODEL_11aebb9f68ad4ab5bccd626c35ffbedd",
            "max": 4203,
            "min": 0,
            "orientation": "horizontal",
            "style": "IPY_MODEL_96241fef28864db4a28a992156b6ea4e",
            "value": 4203
          }
        },
        "e46d7452bc66400abd90a2cfbdcebf90": {
          "model_module": "@jupyter-widgets/controls",
          "model_name": "HTMLModel",
          "model_module_version": "1.5.0",
          "state": {
            "_dom_classes": [],
            "_model_module": "@jupyter-widgets/controls",
            "_model_module_version": "1.5.0",
            "_model_name": "HTMLModel",
            "_view_count": null,
            "_view_module": "@jupyter-widgets/controls",
            "_view_module_version": "1.5.0",
            "_view_name": "HTMLView",
            "description": "",
            "description_tooltip": null,
            "layout": "IPY_MODEL_5199da4883ed4f27aec53b5f1bf0cf90",
            "placeholder": "​",
            "style": "IPY_MODEL_ff429fe1a8564a198f53ce557473a9f0",
            "value": " 4.20k/4.20k [00:00&lt;00:00, 447kB/s]"
          }
        },
        "30c148d04ac8453aac61ed8433f3e7c9": {
          "model_module": "@jupyter-widgets/base",
          "model_name": "LayoutModel",
          "model_module_version": "1.2.0",
          "state": {
            "_model_module": "@jupyter-widgets/base",
            "_model_module_version": "1.2.0",
            "_model_name": "LayoutModel",
            "_view_count": null,
            "_view_module": "@jupyter-widgets/base",
            "_view_module_version": "1.2.0",
            "_view_name": "LayoutView",
            "align_content": null,
            "align_items": null,
            "align_self": null,
            "border": null,
            "bottom": null,
            "display": null,
            "flex": null,
            "flex_flow": null,
            "grid_area": null,
            "grid_auto_columns": null,
            "grid_auto_flow": null,
            "grid_auto_rows": null,
            "grid_column": null,
            "grid_gap": null,
            "grid_row": null,
            "grid_template_areas": null,
            "grid_template_columns": null,
            "grid_template_rows": null,
            "height": null,
            "justify_content": null,
            "justify_items": null,
            "left": null,
            "margin": null,
            "max_height": null,
            "max_width": null,
            "min_height": null,
            "min_width": null,
            "object_fit": null,
            "object_position": null,
            "order": null,
            "overflow": null,
            "overflow_x": null,
            "overflow_y": null,
            "padding": null,
            "right": null,
            "top": null,
            "visibility": null,
            "width": null
          }
        },
        "04959ef81ef446dd8fe5a6774ba66bf6": {
          "model_module": "@jupyter-widgets/base",
          "model_name": "LayoutModel",
          "model_module_version": "1.2.0",
          "state": {
            "_model_module": "@jupyter-widgets/base",
            "_model_module_version": "1.2.0",
            "_model_name": "LayoutModel",
            "_view_count": null,
            "_view_module": "@jupyter-widgets/base",
            "_view_module_version": "1.2.0",
            "_view_name": "LayoutView",
            "align_content": null,
            "align_items": null,
            "align_self": null,
            "border": null,
            "bottom": null,
            "display": null,
            "flex": null,
            "flex_flow": null,
            "grid_area": null,
            "grid_auto_columns": null,
            "grid_auto_flow": null,
            "grid_auto_rows": null,
            "grid_column": null,
            "grid_gap": null,
            "grid_row": null,
            "grid_template_areas": null,
            "grid_template_columns": null,
            "grid_template_rows": null,
            "height": null,
            "justify_content": null,
            "justify_items": null,
            "left": null,
            "margin": null,
            "max_height": null,
            "max_width": null,
            "min_height": null,
            "min_width": null,
            "object_fit": null,
            "object_position": null,
            "order": null,
            "overflow": null,
            "overflow_x": null,
            "overflow_y": null,
            "padding": null,
            "right": null,
            "top": null,
            "visibility": null,
            "width": null
          }
        },
        "6eb0aaf50d9841afb9b6f8ce3adc3bb2": {
          "model_module": "@jupyter-widgets/controls",
          "model_name": "DescriptionStyleModel",
          "model_module_version": "1.5.0",
          "state": {
            "_model_module": "@jupyter-widgets/controls",
            "_model_module_version": "1.5.0",
            "_model_name": "DescriptionStyleModel",
            "_view_count": null,
            "_view_module": "@jupyter-widgets/base",
            "_view_module_version": "1.2.0",
            "_view_name": "StyleView",
            "description_width": ""
          }
        },
        "11aebb9f68ad4ab5bccd626c35ffbedd": {
          "model_module": "@jupyter-widgets/base",
          "model_name": "LayoutModel",
          "model_module_version": "1.2.0",
          "state": {
            "_model_module": "@jupyter-widgets/base",
            "_model_module_version": "1.2.0",
            "_model_name": "LayoutModel",
            "_view_count": null,
            "_view_module": "@jupyter-widgets/base",
            "_view_module_version": "1.2.0",
            "_view_name": "LayoutView",
            "align_content": null,
            "align_items": null,
            "align_self": null,
            "border": null,
            "bottom": null,
            "display": null,
            "flex": null,
            "flex_flow": null,
            "grid_area": null,
            "grid_auto_columns": null,
            "grid_auto_flow": null,
            "grid_auto_rows": null,
            "grid_column": null,
            "grid_gap": null,
            "grid_row": null,
            "grid_template_areas": null,
            "grid_template_columns": null,
            "grid_template_rows": null,
            "height": null,
            "justify_content": null,
            "justify_items": null,
            "left": null,
            "margin": null,
            "max_height": null,
            "max_width": null,
            "min_height": null,
            "min_width": null,
            "object_fit": null,
            "object_position": null,
            "order": null,
            "overflow": null,
            "overflow_x": null,
            "overflow_y": null,
            "padding": null,
            "right": null,
            "top": null,
            "visibility": null,
            "width": null
          }
        },
        "96241fef28864db4a28a992156b6ea4e": {
          "model_module": "@jupyter-widgets/controls",
          "model_name": "ProgressStyleModel",
          "model_module_version": "1.5.0",
          "state": {
            "_model_module": "@jupyter-widgets/controls",
            "_model_module_version": "1.5.0",
            "_model_name": "ProgressStyleModel",
            "_view_count": null,
            "_view_module": "@jupyter-widgets/base",
            "_view_module_version": "1.2.0",
            "_view_name": "StyleView",
            "bar_color": null,
            "description_width": ""
          }
        },
        "5199da4883ed4f27aec53b5f1bf0cf90": {
          "model_module": "@jupyter-widgets/base",
          "model_name": "LayoutModel",
          "model_module_version": "1.2.0",
          "state": {
            "_model_module": "@jupyter-widgets/base",
            "_model_module_version": "1.2.0",
            "_model_name": "LayoutModel",
            "_view_count": null,
            "_view_module": "@jupyter-widgets/base",
            "_view_module_version": "1.2.0",
            "_view_name": "LayoutView",
            "align_content": null,
            "align_items": null,
            "align_self": null,
            "border": null,
            "bottom": null,
            "display": null,
            "flex": null,
            "flex_flow": null,
            "grid_area": null,
            "grid_auto_columns": null,
            "grid_auto_flow": null,
            "grid_auto_rows": null,
            "grid_column": null,
            "grid_gap": null,
            "grid_row": null,
            "grid_template_areas": null,
            "grid_template_columns": null,
            "grid_template_rows": null,
            "height": null,
            "justify_content": null,
            "justify_items": null,
            "left": null,
            "margin": null,
            "max_height": null,
            "max_width": null,
            "min_height": null,
            "min_width": null,
            "object_fit": null,
            "object_position": null,
            "order": null,
            "overflow": null,
            "overflow_x": null,
            "overflow_y": null,
            "padding": null,
            "right": null,
            "top": null,
            "visibility": null,
            "width": null
          }
        },
        "ff429fe1a8564a198f53ce557473a9f0": {
          "model_module": "@jupyter-widgets/controls",
          "model_name": "DescriptionStyleModel",
          "model_module_version": "1.5.0",
          "state": {
            "_model_module": "@jupyter-widgets/controls",
            "_model_module_version": "1.5.0",
            "_model_name": "DescriptionStyleModel",
            "_view_count": null,
            "_view_module": "@jupyter-widgets/base",
            "_view_module_version": "1.2.0",
            "_view_name": "StyleView",
            "description_width": ""
          }
        }
      }
    }
  },
  "nbformat": 4,
  "nbformat_minor": 0
}